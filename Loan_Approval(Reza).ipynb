{
  "nbformat": 4,
  "nbformat_minor": 0,
  "metadata": {
    "kernelspec": {
      "display_name": "Python 3",
      "language": "python",
      "name": "python3"
    },
    "language_info": {
      "codemirror_mode": {
        "name": "ipython",
        "version": 3
      },
      "file_extension": ".py",
      "mimetype": "text/x-python",
      "name": "python",
      "nbconvert_exporter": "python",
      "pygments_lexer": "ipython3",
      "version": "3.6.4"
    },
    "colab": {
      "name": "Python_Project_Reza.Tavasoli.ipynb",
      "provenance": [],
      "include_colab_link": true
    }
  },
  "cells": [
    {
      "cell_type": "markdown",
      "metadata": {
        "id": "view-in-github",
        "colab_type": "text"
      },
      "source": [
        "<a href=\"https://colab.research.google.com/github/tavasoli-reza/Loan-Approval-Prediction-Machine-Learning-Project-/blob/master/Loan_Approval(Reza).ipynb\" target=\"_parent\"><img src=\"https://colab.research.google.com/assets/colab-badge.svg\" alt=\"Open In Colab\"/></a>"
      ]
    },
    {
      "cell_type": "code",
      "metadata": {
        "id": "utDsGYGi78RZ",
        "colab_type": "code",
        "colab": {}
      },
      "source": [
        "#***************************************************************************************************************\n",
        "#***************************                 Loan approval Prediction                ***************************\n",
        "#***************************                          Reza                           ***************************\n",
        "#***************************************************************************************************************"
      ],
      "execution_count": 0,
      "outputs": []
    },
    {
      "cell_type": "code",
      "metadata": {
        "id": "TggtJw-I78Ri",
        "colab_type": "code",
        "colab": {}
      },
      "source": [
        "%matplotlib inline\n",
        "\n",
        "import os\n",
        "import numpy as np\n",
        "import pandas as pd\n",
        "import seaborn as sns\n",
        "sns.set(style='darkgrid')\n",
        "import matplotlib.pyplot as plt\n",
        "from scipy.stats import norm\n",
        "from sklearn.preprocessing import StandardScaler\n",
        "from scipy import stats\n",
        "import warnings\n",
        "warnings.filterwarnings('ignore')\n",
        "plt.style.use('classic')\n",
        "\n",
        "%matplotlib inline"
      ],
      "execution_count": 0,
      "outputs": []
    },
    {
      "cell_type": "code",
      "metadata": {
        "id": "smJrPFXW78Rn",
        "colab_type": "code",
        "colab": {},
        "outputId": "9da1436a-48e4-4258-c73d-27dd31565fc4"
      },
      "source": [
        "os.chdir(r\"C:\\Users\\reza\\Desktop\\python project\\loan_eligibility\\Loan-prediction-using-Machine-Learning-and-Python-master\\Loan-prediction-using-Machine-Learning-and-Python-master\\data\")\n",
        "os.getcwd()"
      ],
      "execution_count": 0,
      "outputs": [
        {
          "output_type": "execute_result",
          "data": {
            "text/plain": [
              "'C:\\\\Users\\\\reza\\\\Desktop\\\\python project\\\\loan_eligibility\\\\Loan-prediction-using-Machine-Learning-and-Python-master\\\\Loan-prediction-using-Machine-Learning-and-Python-master\\\\data'"
            ]
          },
          "metadata": {
            "tags": []
          },
          "execution_count": 2
        }
      ]
    },
    {
      "cell_type": "code",
      "metadata": {
        "id": "knlC4jvI78Rt",
        "colab_type": "code",
        "colab": {}
      },
      "source": [
        "df = pd.read_csv(\"train_loan_home.csv\") "
      ],
      "execution_count": 0,
      "outputs": []
    },
    {
      "cell_type": "code",
      "metadata": {
        "id": "PFS5_S5F78Rx",
        "colab_type": "code",
        "colab": {}
      },
      "source": [
        "#***************************************************************************************************************\n",
        "#***************************           Exploratory Data Analysis(EDA)                ***************************\n",
        "#***************************************************************************************************************"
      ],
      "execution_count": 0,
      "outputs": []
    },
    {
      "cell_type": "code",
      "metadata": {
        "id": "U-H0NJYY78R1",
        "colab_type": "code",
        "colab": {},
        "outputId": "6907b597-1b96-4800-82ec-1c154057cbe3"
      },
      "source": [
        "df.head()"
      ],
      "execution_count": 0,
      "outputs": [
        {
          "output_type": "execute_result",
          "data": {
            "text/html": [
              "<div>\n",
              "<style scoped>\n",
              "    .dataframe tbody tr th:only-of-type {\n",
              "        vertical-align: middle;\n",
              "    }\n",
              "\n",
              "    .dataframe tbody tr th {\n",
              "        vertical-align: top;\n",
              "    }\n",
              "\n",
              "    .dataframe thead th {\n",
              "        text-align: right;\n",
              "    }\n",
              "</style>\n",
              "<table border=\"1\" class=\"dataframe\">\n",
              "  <thead>\n",
              "    <tr style=\"text-align: right;\">\n",
              "      <th></th>\n",
              "      <th>Loan_ID</th>\n",
              "      <th>Gender</th>\n",
              "      <th>Married</th>\n",
              "      <th>Dependents</th>\n",
              "      <th>Education</th>\n",
              "      <th>Self_Employed</th>\n",
              "      <th>ApplicantIncome</th>\n",
              "      <th>CoapplicantIncome</th>\n",
              "      <th>LoanAmount</th>\n",
              "      <th>Loan_Amount_Term</th>\n",
              "      <th>Credit_History</th>\n",
              "      <th>Property_Area</th>\n",
              "      <th>Loan_Status</th>\n",
              "    </tr>\n",
              "  </thead>\n",
              "  <tbody>\n",
              "    <tr>\n",
              "      <th>0</th>\n",
              "      <td>LP001002</td>\n",
              "      <td>Male</td>\n",
              "      <td>No</td>\n",
              "      <td>0</td>\n",
              "      <td>Graduate</td>\n",
              "      <td>No</td>\n",
              "      <td>5849</td>\n",
              "      <td>0.0</td>\n",
              "      <td>NaN</td>\n",
              "      <td>360.0</td>\n",
              "      <td>1.0</td>\n",
              "      <td>Urban</td>\n",
              "      <td>Y</td>\n",
              "    </tr>\n",
              "    <tr>\n",
              "      <th>1</th>\n",
              "      <td>LP001003</td>\n",
              "      <td>Male</td>\n",
              "      <td>Yes</td>\n",
              "      <td>1</td>\n",
              "      <td>Graduate</td>\n",
              "      <td>No</td>\n",
              "      <td>4583</td>\n",
              "      <td>1508.0</td>\n",
              "      <td>128.0</td>\n",
              "      <td>360.0</td>\n",
              "      <td>1.0</td>\n",
              "      <td>Rural</td>\n",
              "      <td>N</td>\n",
              "    </tr>\n",
              "    <tr>\n",
              "      <th>2</th>\n",
              "      <td>LP001005</td>\n",
              "      <td>Male</td>\n",
              "      <td>Yes</td>\n",
              "      <td>0</td>\n",
              "      <td>Graduate</td>\n",
              "      <td>Yes</td>\n",
              "      <td>3000</td>\n",
              "      <td>0.0</td>\n",
              "      <td>66.0</td>\n",
              "      <td>360.0</td>\n",
              "      <td>1.0</td>\n",
              "      <td>Urban</td>\n",
              "      <td>Y</td>\n",
              "    </tr>\n",
              "    <tr>\n",
              "      <th>3</th>\n",
              "      <td>LP001006</td>\n",
              "      <td>Male</td>\n",
              "      <td>Yes</td>\n",
              "      <td>0</td>\n",
              "      <td>Not Graduate</td>\n",
              "      <td>No</td>\n",
              "      <td>2583</td>\n",
              "      <td>2358.0</td>\n",
              "      <td>120.0</td>\n",
              "      <td>360.0</td>\n",
              "      <td>1.0</td>\n",
              "      <td>Urban</td>\n",
              "      <td>Y</td>\n",
              "    </tr>\n",
              "    <tr>\n",
              "      <th>4</th>\n",
              "      <td>LP001008</td>\n",
              "      <td>Male</td>\n",
              "      <td>No</td>\n",
              "      <td>0</td>\n",
              "      <td>Graduate</td>\n",
              "      <td>No</td>\n",
              "      <td>6000</td>\n",
              "      <td>0.0</td>\n",
              "      <td>141.0</td>\n",
              "      <td>360.0</td>\n",
              "      <td>1.0</td>\n",
              "      <td>Urban</td>\n",
              "      <td>Y</td>\n",
              "    </tr>\n",
              "  </tbody>\n",
              "</table>\n",
              "</div>"
            ],
            "text/plain": [
              "    Loan_ID Gender Married Dependents     Education Self_Employed  \\\n",
              "0  LP001002   Male      No          0      Graduate            No   \n",
              "1  LP001003   Male     Yes          1      Graduate            No   \n",
              "2  LP001005   Male     Yes          0      Graduate           Yes   \n",
              "3  LP001006   Male     Yes          0  Not Graduate            No   \n",
              "4  LP001008   Male      No          0      Graduate            No   \n",
              "\n",
              "   ApplicantIncome  CoapplicantIncome  LoanAmount  Loan_Amount_Term  \\\n",
              "0             5849                0.0         NaN             360.0   \n",
              "1             4583             1508.0       128.0             360.0   \n",
              "2             3000                0.0        66.0             360.0   \n",
              "3             2583             2358.0       120.0             360.0   \n",
              "4             6000                0.0       141.0             360.0   \n",
              "\n",
              "   Credit_History Property_Area Loan_Status  \n",
              "0             1.0         Urban           Y  \n",
              "1             1.0         Rural           N  \n",
              "2             1.0         Urban           Y  \n",
              "3             1.0         Urban           Y  \n",
              "4             1.0         Urban           Y  "
            ]
          },
          "metadata": {
            "tags": []
          },
          "execution_count": 5
        }
      ]
    },
    {
      "cell_type": "code",
      "metadata": {
        "id": "dBjHL7y278R5",
        "colab_type": "code",
        "colab": {},
        "outputId": "c1ccc06b-e077-454b-fdb7-31660743838e"
      },
      "source": [
        "#describing variables , summary statistic( count, mean,std deviation, min, max,percentiles)\n",
        "round(df.describe())"
      ],
      "execution_count": 0,
      "outputs": [
        {
          "output_type": "execute_result",
          "data": {
            "text/html": [
              "<div>\n",
              "<style scoped>\n",
              "    .dataframe tbody tr th:only-of-type {\n",
              "        vertical-align: middle;\n",
              "    }\n",
              "\n",
              "    .dataframe tbody tr th {\n",
              "        vertical-align: top;\n",
              "    }\n",
              "\n",
              "    .dataframe thead th {\n",
              "        text-align: right;\n",
              "    }\n",
              "</style>\n",
              "<table border=\"1\" class=\"dataframe\">\n",
              "  <thead>\n",
              "    <tr style=\"text-align: right;\">\n",
              "      <th></th>\n",
              "      <th>ApplicantIncome</th>\n",
              "      <th>CoapplicantIncome</th>\n",
              "      <th>LoanAmount</th>\n",
              "      <th>Loan_Amount_Term</th>\n",
              "      <th>Credit_History</th>\n",
              "    </tr>\n",
              "  </thead>\n",
              "  <tbody>\n",
              "    <tr>\n",
              "      <th>count</th>\n",
              "      <td>614.0</td>\n",
              "      <td>614.0</td>\n",
              "      <td>592.0</td>\n",
              "      <td>600.0</td>\n",
              "      <td>564.0</td>\n",
              "    </tr>\n",
              "    <tr>\n",
              "      <th>mean</th>\n",
              "      <td>5403.0</td>\n",
              "      <td>1621.0</td>\n",
              "      <td>146.0</td>\n",
              "      <td>342.0</td>\n",
              "      <td>1.0</td>\n",
              "    </tr>\n",
              "    <tr>\n",
              "      <th>std</th>\n",
              "      <td>6109.0</td>\n",
              "      <td>2926.0</td>\n",
              "      <td>86.0</td>\n",
              "      <td>65.0</td>\n",
              "      <td>0.0</td>\n",
              "    </tr>\n",
              "    <tr>\n",
              "      <th>min</th>\n",
              "      <td>150.0</td>\n",
              "      <td>0.0</td>\n",
              "      <td>9.0</td>\n",
              "      <td>12.0</td>\n",
              "      <td>0.0</td>\n",
              "    </tr>\n",
              "    <tr>\n",
              "      <th>25%</th>\n",
              "      <td>2878.0</td>\n",
              "      <td>0.0</td>\n",
              "      <td>100.0</td>\n",
              "      <td>360.0</td>\n",
              "      <td>1.0</td>\n",
              "    </tr>\n",
              "    <tr>\n",
              "      <th>50%</th>\n",
              "      <td>3812.0</td>\n",
              "      <td>1188.0</td>\n",
              "      <td>128.0</td>\n",
              "      <td>360.0</td>\n",
              "      <td>1.0</td>\n",
              "    </tr>\n",
              "    <tr>\n",
              "      <th>75%</th>\n",
              "      <td>5795.0</td>\n",
              "      <td>2297.0</td>\n",
              "      <td>168.0</td>\n",
              "      <td>360.0</td>\n",
              "      <td>1.0</td>\n",
              "    </tr>\n",
              "    <tr>\n",
              "      <th>max</th>\n",
              "      <td>81000.0</td>\n",
              "      <td>41667.0</td>\n",
              "      <td>700.0</td>\n",
              "      <td>480.0</td>\n",
              "      <td>1.0</td>\n",
              "    </tr>\n",
              "  </tbody>\n",
              "</table>\n",
              "</div>"
            ],
            "text/plain": [
              "       ApplicantIncome  CoapplicantIncome  LoanAmount  Loan_Amount_Term  \\\n",
              "count            614.0              614.0       592.0             600.0   \n",
              "mean            5403.0             1621.0       146.0             342.0   \n",
              "std             6109.0             2926.0        86.0              65.0   \n",
              "min              150.0                0.0         9.0              12.0   \n",
              "25%             2878.0                0.0       100.0             360.0   \n",
              "50%             3812.0             1188.0       128.0             360.0   \n",
              "75%             5795.0             2297.0       168.0             360.0   \n",
              "max            81000.0            41667.0       700.0             480.0   \n",
              "\n",
              "       Credit_History  \n",
              "count           564.0  \n",
              "mean              1.0  \n",
              "std               0.0  \n",
              "min               0.0  \n",
              "25%               1.0  \n",
              "50%               1.0  \n",
              "75%               1.0  \n",
              "max               1.0  "
            ]
          },
          "metadata": {
            "tags": []
          },
          "execution_count": 6
        }
      ]
    },
    {
      "cell_type": "code",
      "metadata": {
        "id": "_HWyUjGu78R9",
        "colab_type": "code",
        "colab": {},
        "outputId": "f00f991b-6a2f-4201-aa8d-658feade96e8"
      },
      "source": [
        "plt.title(\"Applicant Income\")\n",
        "df['ApplicantIncome'].hist(bins=50,color=\"b\",edgecolor='black',grid=False) #skewed "
      ],
      "execution_count": 0,
      "outputs": [
        {
          "output_type": "execute_result",
          "data": {
            "text/plain": [
              "<matplotlib.axes._subplots.AxesSubplot at 0x1ed0d476048>"
            ]
          },
          "metadata": {
            "tags": []
          },
          "execution_count": 7
        },
        {
          "output_type": "display_data",
          "data": {
            "image/png": "[encoded data removed]",
            "text/plain": [
              "<matplotlib.figure.Figure at 0x1ed0d444a20>"
            ]
          },
          "metadata": {
            "tags": []
          }
        }
      ]
    },
    {
      "cell_type": "code",
      "metadata": {
        "id": "AcdGZUEp78SF",
        "colab_type": "code",
        "colab": {},
        "outputId": "94849fd5-86ab-4f84-879b-06326d73770e"
      },
      "source": [
        "df.boxplot(column='ApplicantIncome',grid=False) #Outliers present"
      ],
      "execution_count": 0,
      "outputs": [
        {
          "output_type": "execute_result",
          "data": {
            "text/plain": [
              "<matplotlib.axes._subplots.AxesSubplot at 0x1ed0d500630>"
            ]
          },
          "metadata": {
            "tags": []
          },
          "execution_count": 8
        },
        {
          "output_type": "display_data",
          "data": {
            "image/png": "[encoded data removed]",
            "text/plain": [
              "<matplotlib.figure.Figure at 0x1ed09cc7dd8>"
            ]
          },
          "metadata": {
            "tags": []
          }
        }
      ]
    },
    {
      "cell_type": "code",
      "metadata": {
        "id": "cIE2LZ6978SJ",
        "colab_type": "code",
        "colab": {},
        "outputId": "2e16f4be-e14e-43e4-8c2d-2f088982cf41"
      },
      "source": [
        "plt.title(\"Coapplicant Income\")\n",
        "df['CoapplicantIncome'].hist(bins=50,color=\"g\",edgecolor='black',grid=False) #skewed "
      ],
      "execution_count": 0,
      "outputs": [
        {
          "output_type": "execute_result",
          "data": {
            "text/plain": [
              "<matplotlib.axes._subplots.AxesSubplot at 0x1ed09cc7e80>"
            ]
          },
          "metadata": {
            "tags": []
          },
          "execution_count": 9
        },
        {
          "output_type": "display_data",
          "data": {
            "image/png": "[encoded data removed]",
            "text/plain": [
              "<matplotlib.figure.Figure at 0x1ed0d5b0c88>"
            ]
          },
          "metadata": {
            "tags": []
          }
        }
      ]
    },
    {
      "cell_type": "code",
      "metadata": {
        "id": "WqkGAQ8278SN",
        "colab_type": "code",
        "colab": {},
        "outputId": "db5226be-a0d7-4fa1-bb88-57a6bf3cb89a"
      },
      "source": [
        "df.boxplot(column='CoapplicantIncome',grid=False) #Outliers present"
      ],
      "execution_count": 0,
      "outputs": [
        {
          "output_type": "execute_result",
          "data": {
            "text/plain": [
              "<matplotlib.axes._subplots.AxesSubplot at 0x1ed0d652828>"
            ]
          },
          "metadata": {
            "tags": []
          },
          "execution_count": 10
        },
        {
          "output_type": "display_data",
          "data": {
            "image/png": "[encoded data removed]",
            "text/plain": [
              "<matplotlib.figure.Figure at 0x1ed0d5ca080>"
            ]
          },
          "metadata": {
            "tags": []
          }
        }
      ]
    },
    {
      "cell_type": "code",
      "metadata": {
        "id": "Y7qwXfR378SS",
        "colab_type": "code",
        "colab": {},
        "outputId": "0380b15f-f1bb-4bba-ee6a-9175ce20448a"
      },
      "source": [
        "plt.title(\"Loan Amount\")\n",
        "df['LoanAmount'].hist(bins=50,color=\"g\",edgecolor='black',grid=False) #slightly skewed "
      ],
      "execution_count": 0,
      "outputs": [
        {
          "output_type": "execute_result",
          "data": {
            "text/plain": [
              "<matplotlib.axes._subplots.AxesSubplot at 0x1ed0d5ca9b0>"
            ]
          },
          "metadata": {
            "tags": []
          },
          "execution_count": 11
        },
        {
          "output_type": "display_data",
          "data": {
            "image/png": "[encoded data removed]",
            "text/plain": [
              "<matplotlib.figure.Figure at 0x1ed0d72c4e0>"
            ]
          },
          "metadata": {
            "tags": []
          }
        }
      ]
    },
    {
      "cell_type": "code",
      "metadata": {
        "id": "SlQUa-Xq78SW",
        "colab_type": "code",
        "colab": {},
        "outputId": "d0fc90a9-d181-42a4-e9d2-6e0804aa4628"
      },
      "source": [
        "df.boxplot(column='LoanAmount',grid=False) #Outliers present"
      ],
      "execution_count": 0,
      "outputs": [
        {
          "output_type": "execute_result",
          "data": {
            "text/plain": [
              "<matplotlib.axes._subplots.AxesSubplot at 0x1ed0d7865f8>"
            ]
          },
          "metadata": {
            "tags": []
          },
          "execution_count": 12
        },
        {
          "output_type": "display_data",
          "data": {
            "image/png": "[encoded data removed]",
            "text/plain": [
              "<matplotlib.figure.Figure at 0x1ed0d849438>"
            ]
          },
          "metadata": {
            "tags": []
          }
        }
      ]
    },
    {
      "cell_type": "code",
      "metadata": {
        "id": "sDrxetzX78Sa",
        "colab_type": "code",
        "colab": {},
        "outputId": "b5411805-4555-4407-e768-57ce2a38f85a"
      },
      "source": [
        "plt.title(\"Loan Amount Term\")\n",
        "df['Loan_Amount_Term'].hist(bins=40,color='g',edgecolor='black',grid=False) #most of the people take for 360 months loan"
      ],
      "execution_count": 0,
      "outputs": [
        {
          "output_type": "execute_result",
          "data": {
            "text/plain": [
              "<matplotlib.axes._subplots.AxesSubplot at 0x1ed0d7d4860>"
            ]
          },
          "metadata": {
            "tags": []
          },
          "execution_count": 13
        },
        {
          "output_type": "display_data",
          "data": {
            "image/png": "[encoded data removed]",
            "text/plain": [
              "<matplotlib.figure.Figure at 0x1ed0d8aa780>"
            ]
          },
          "metadata": {
            "tags": []
          }
        }
      ]
    },
    {
      "cell_type": "code",
      "metadata": {
        "id": "aYWwmHai78Se",
        "colab_type": "code",
        "colab": {},
        "outputId": "c9df2fd5-0346-4b03-a278-142c42c7e16d"
      },
      "source": [
        "df.boxplot(column='Loan_Amount_Term',grid=False)"
      ],
      "execution_count": 0,
      "outputs": [
        {
          "output_type": "execute_result",
          "data": {
            "text/plain": [
              "<matplotlib.axes._subplots.AxesSubplot at 0x1ed0d8b6908>"
            ]
          },
          "metadata": {
            "tags": []
          },
          "execution_count": 14
        },
        {
          "output_type": "display_data",
          "data": {
            "image/png": "[encoded data removed]",
            "text/plain": [
              "<matplotlib.figure.Figure at 0x1ed0d442b38>"
            ]
          },
          "metadata": {
            "tags": []
          }
        }
      ]
    },
    {
      "cell_type": "code",
      "metadata": {
        "id": "sZwCWp_k78Si",
        "colab_type": "code",
        "colab": {}
      },
      "source": [
        "#Exploratory data analysis for Categorical variables"
      ],
      "execution_count": 0,
      "outputs": []
    },
    {
      "cell_type": "code",
      "metadata": {
        "id": "oWrGHKLR78Sn",
        "colab_type": "code",
        "colab": {},
        "outputId": "f20815b9-0822-4884-ead6-f07d08e220be"
      },
      "source": [
        "df['Gender'].value_counts() # Mostly Male, around (614-601) = 13 values missing"
      ],
      "execution_count": 0,
      "outputs": [
        {
          "output_type": "execute_result",
          "data": {
            "text/plain": [
              "Male      489\n",
              "Female    112\n",
              "Name: Gender, dtype: int64"
            ]
          },
          "metadata": {
            "tags": []
          },
          "execution_count": 16
        }
      ]
    },
    {
      "cell_type": "code",
      "metadata": {
        "id": "quaQYfJC78St",
        "colab_type": "code",
        "colab": {},
        "outputId": "d136061c-ac0e-4375-bc8c-6bd6a2192fee"
      },
      "source": [
        "df['Married'].value_counts() # 3 missing values"
      ],
      "execution_count": 0,
      "outputs": [
        {
          "output_type": "execute_result",
          "data": {
            "text/plain": [
              "Yes    398\n",
              "No     213\n",
              "Name: Married, dtype: int64"
            ]
          },
          "metadata": {
            "tags": []
          },
          "execution_count": 17
        }
      ]
    },
    {
      "cell_type": "code",
      "metadata": {
        "id": "9Ouxo25y78Sz",
        "colab_type": "code",
        "colab": {},
        "outputId": "2b3ca95b-4b08-4df0-8a7a-90572d2d87cb"
      },
      "source": [
        "df['Dependents'].value_counts() "
      ],
      "execution_count": 0,
      "outputs": [
        {
          "output_type": "execute_result",
          "data": {
            "text/plain": [
              "0     345\n",
              "1     102\n",
              "2     101\n",
              "3+     51\n",
              "Name: Dependents, dtype: int64"
            ]
          },
          "metadata": {
            "tags": []
          },
          "execution_count": 18
        }
      ]
    },
    {
      "cell_type": "code",
      "metadata": {
        "id": "pR0zdGFq78S4",
        "colab_type": "code",
        "colab": {},
        "outputId": "e5b88170-4876-47a4-c1f9-3a06d5a0485c"
      },
      "source": [
        "df['Education'].value_counts() # most of the people are graduates"
      ],
      "execution_count": 0,
      "outputs": [
        {
          "output_type": "execute_result",
          "data": {
            "text/plain": [
              "Graduate        480\n",
              "Not Graduate    134\n",
              "Name: Education, dtype: int64"
            ]
          },
          "metadata": {
            "tags": []
          },
          "execution_count": 19
        }
      ]
    },
    {
      "cell_type": "code",
      "metadata": {
        "id": "coLYM0oG78S9",
        "colab_type": "code",
        "colab": {},
        "outputId": "5e307a43-915b-4a29-92d7-633e34cd54e7"
      },
      "source": [
        "df['Self_Employed'].value_counts() #Most of the people are not self employed, they are working"
      ],
      "execution_count": 0,
      "outputs": [
        {
          "output_type": "execute_result",
          "data": {
            "text/plain": [
              "No     500\n",
              "Yes     82\n",
              "Name: Self_Employed, dtype: int64"
            ]
          },
          "metadata": {
            "tags": []
          },
          "execution_count": 20
        }
      ]
    },
    {
      "cell_type": "code",
      "metadata": {
        "id": "GfK-1gDP78TE",
        "colab_type": "code",
        "colab": {},
        "outputId": "b2b0eb92-6605-480b-f21a-98960adbf9c5"
      },
      "source": [
        "df['Property_Area'].value_counts() "
      ],
      "execution_count": 0,
      "outputs": [
        {
          "output_type": "execute_result",
          "data": {
            "text/plain": [
              "Semiurban    233\n",
              "Urban        202\n",
              "Rural        179\n",
              "Name: Property_Area, dtype: int64"
            ]
          },
          "metadata": {
            "tags": []
          },
          "execution_count": 21
        }
      ]
    },
    {
      "cell_type": "code",
      "metadata": {
        "id": "uPWOdboy78TM",
        "colab_type": "code",
        "colab": {},
        "outputId": "365a954f-344c-49cc-8e30-f701680a08bb"
      },
      "source": [
        "df['Loan_Status'].value_counts() "
      ],
      "execution_count": 0,
      "outputs": [
        {
          "output_type": "execute_result",
          "data": {
            "text/plain": [
              "Y    422\n",
              "N    192\n",
              "Name: Loan_Status, dtype: int64"
            ]
          },
          "metadata": {
            "tags": []
          },
          "execution_count": 22
        }
      ]
    },
    {
      "cell_type": "code",
      "metadata": {
        "id": "Vft-FDoN78TU",
        "colab_type": "code",
        "colab": {},
        "outputId": "7b7f295a-ddd5-45e2-ed98-a5dd7d946fd5"
      },
      "source": [
        "round(df[['Gender', 'ApplicantIncome']].groupby(['Gender'],as_index = False).mean().sort_values(by = 'Gender', ascending = False))"
      ],
      "execution_count": 0,
      "outputs": [
        {
          "output_type": "execute_result",
          "data": {
            "text/html": [
              "<div>\n",
              "<style scoped>\n",
              "    .dataframe tbody tr th:only-of-type {\n",
              "        vertical-align: middle;\n",
              "    }\n",
              "\n",
              "    .dataframe tbody tr th {\n",
              "        vertical-align: top;\n",
              "    }\n",
              "\n",
              "    .dataframe thead th {\n",
              "        text-align: right;\n",
              "    }\n",
              "</style>\n",
              "<table border=\"1\" class=\"dataframe\">\n",
              "  <thead>\n",
              "    <tr style=\"text-align: right;\">\n",
              "      <th></th>\n",
              "      <th>Gender</th>\n",
              "      <th>ApplicantIncome</th>\n",
              "    </tr>\n",
              "  </thead>\n",
              "  <tbody>\n",
              "    <tr>\n",
              "      <th>1</th>\n",
              "      <td>Male</td>\n",
              "      <td>5446.0</td>\n",
              "    </tr>\n",
              "    <tr>\n",
              "      <th>0</th>\n",
              "      <td>Female</td>\n",
              "      <td>4643.0</td>\n",
              "    </tr>\n",
              "  </tbody>\n",
              "</table>\n",
              "</div>"
            ],
            "text/plain": [
              "   Gender  ApplicantIncome\n",
              "1    Male           5446.0\n",
              "0  Female           4643.0"
            ]
          },
          "metadata": {
            "tags": []
          },
          "execution_count": 23
        }
      ]
    },
    {
      "cell_type": "code",
      "metadata": {
        "id": "87-IHSFL78TX",
        "colab_type": "code",
        "colab": {},
        "outputId": "4ff69856-e504-4a6d-9a69-6a7bbf1b7a24"
      },
      "source": [
        "round(df[['Married', 'ApplicantIncome']].groupby(['Married'],as_index = False).mean().sort_values(by = 'Married', ascending = False))"
      ],
      "execution_count": 0,
      "outputs": [
        {
          "output_type": "execute_result",
          "data": {
            "text/html": [
              "<div>\n",
              "<style scoped>\n",
              "    .dataframe tbody tr th:only-of-type {\n",
              "        vertical-align: middle;\n",
              "    }\n",
              "\n",
              "    .dataframe tbody tr th {\n",
              "        vertical-align: top;\n",
              "    }\n",
              "\n",
              "    .dataframe thead th {\n",
              "        text-align: right;\n",
              "    }\n",
              "</style>\n",
              "<table border=\"1\" class=\"dataframe\">\n",
              "  <thead>\n",
              "    <tr style=\"text-align: right;\">\n",
              "      <th></th>\n",
              "      <th>Married</th>\n",
              "      <th>ApplicantIncome</th>\n",
              "    </tr>\n",
              "  </thead>\n",
              "  <tbody>\n",
              "    <tr>\n",
              "      <th>1</th>\n",
              "      <td>Yes</td>\n",
              "      <td>5629.0</td>\n",
              "    </tr>\n",
              "    <tr>\n",
              "      <th>0</th>\n",
              "      <td>No</td>\n",
              "      <td>4970.0</td>\n",
              "    </tr>\n",
              "  </tbody>\n",
              "</table>\n",
              "</div>"
            ],
            "text/plain": [
              "  Married  ApplicantIncome\n",
              "1     Yes           5629.0\n",
              "0      No           4970.0"
            ]
          },
          "metadata": {
            "tags": []
          },
          "execution_count": 24
        }
      ]
    },
    {
      "cell_type": "code",
      "metadata": {
        "id": "eYyfr48U78Tb",
        "colab_type": "code",
        "colab": {},
        "outputId": "b7df1a25-3391-4b05-88a4-7f2dc157454c"
      },
      "source": [
        "round(df[['Self_Employed', 'ApplicantIncome']].groupby(['Self_Employed'],\n",
        "                                               as_index = False).mean().sort_values(by = 'Self_Employed', ascending = False))"
      ],
      "execution_count": 0,
      "outputs": [
        {
          "output_type": "execute_result",
          "data": {
            "text/html": [
              "<div>\n",
              "<style scoped>\n",
              "    .dataframe tbody tr th:only-of-type {\n",
              "        vertical-align: middle;\n",
              "    }\n",
              "\n",
              "    .dataframe tbody tr th {\n",
              "        vertical-align: top;\n",
              "    }\n",
              "\n",
              "    .dataframe thead th {\n",
              "        text-align: right;\n",
              "    }\n",
              "</style>\n",
              "<table border=\"1\" class=\"dataframe\">\n",
              "  <thead>\n",
              "    <tr style=\"text-align: right;\">\n",
              "      <th></th>\n",
              "      <th>Self_Employed</th>\n",
              "      <th>ApplicantIncome</th>\n",
              "    </tr>\n",
              "  </thead>\n",
              "  <tbody>\n",
              "    <tr>\n",
              "      <th>1</th>\n",
              "      <td>Yes</td>\n",
              "      <td>7381.0</td>\n",
              "    </tr>\n",
              "    <tr>\n",
              "      <th>0</th>\n",
              "      <td>No</td>\n",
              "      <td>5050.0</td>\n",
              "    </tr>\n",
              "  </tbody>\n",
              "</table>\n",
              "</div>"
            ],
            "text/plain": [
              "  Self_Employed  ApplicantIncome\n",
              "1           Yes           7381.0\n",
              "0            No           5050.0"
            ]
          },
          "metadata": {
            "tags": []
          },
          "execution_count": 25
        }
      ]
    },
    {
      "cell_type": "code",
      "metadata": {
        "id": "B3VuKAqG78Tf",
        "colab_type": "code",
        "colab": {},
        "outputId": "7a72cd8d-0ed0-4adf-bedc-f40e8170cb27"
      },
      "source": [
        "round(df[['Gender', 'Married', 'ApplicantIncome']].groupby(['Gender', 'Married'],\n",
        "                                               as_index = False).mean().sort_values(by = 'Gender',ascending = False))"
      ],
      "execution_count": 0,
      "outputs": [
        {
          "output_type": "execute_result",
          "data": {
            "text/html": [
              "<div>\n",
              "<style scoped>\n",
              "    .dataframe tbody tr th:only-of-type {\n",
              "        vertical-align: middle;\n",
              "    }\n",
              "\n",
              "    .dataframe tbody tr th {\n",
              "        vertical-align: top;\n",
              "    }\n",
              "\n",
              "    .dataframe thead th {\n",
              "        text-align: right;\n",
              "    }\n",
              "</style>\n",
              "<table border=\"1\" class=\"dataframe\">\n",
              "  <thead>\n",
              "    <tr style=\"text-align: right;\">\n",
              "      <th></th>\n",
              "      <th>Gender</th>\n",
              "      <th>Married</th>\n",
              "      <th>ApplicantIncome</th>\n",
              "    </tr>\n",
              "  </thead>\n",
              "  <tbody>\n",
              "    <tr>\n",
              "      <th>2</th>\n",
              "      <td>Male</td>\n",
              "      <td>No</td>\n",
              "      <td>5236.0</td>\n",
              "    </tr>\n",
              "    <tr>\n",
              "      <th>3</th>\n",
              "      <td>Male</td>\n",
              "      <td>Yes</td>\n",
              "      <td>5530.0</td>\n",
              "    </tr>\n",
              "    <tr>\n",
              "      <th>0</th>\n",
              "      <td>Female</td>\n",
              "      <td>No</td>\n",
              "      <td>4504.0</td>\n",
              "    </tr>\n",
              "    <tr>\n",
              "      <th>1</th>\n",
              "      <td>Female</td>\n",
              "      <td>Yes</td>\n",
              "      <td>4830.0</td>\n",
              "    </tr>\n",
              "  </tbody>\n",
              "</table>\n",
              "</div>"
            ],
            "text/plain": [
              "   Gender Married  ApplicantIncome\n",
              "2    Male      No           5236.0\n",
              "3    Male     Yes           5530.0\n",
              "0  Female      No           4504.0\n",
              "1  Female     Yes           4830.0"
            ]
          },
          "metadata": {
            "tags": []
          },
          "execution_count": 26
        }
      ]
    },
    {
      "cell_type": "code",
      "metadata": {
        "id": "eeDz2HYq78Ti",
        "colab_type": "code",
        "colab": {}
      },
      "source": [
        "temp1 = df['Credit_History'].value_counts(ascending=True)"
      ],
      "execution_count": 0,
      "outputs": []
    },
    {
      "cell_type": "code",
      "metadata": {
        "id": "_RWbWXYU78Tl",
        "colab_type": "code",
        "colab": {},
        "outputId": "034bac12-1f5a-4bb7-ee72-bd4463ae906d"
      },
      "source": [
        "print(temp1)"
      ],
      "execution_count": 0,
      "outputs": [
        {
          "output_type": "stream",
          "text": [
            "0.0     89\n",
            "1.0    475\n",
            "Name: Credit_History, dtype: int64\n"
          ],
          "name": "stdout"
        }
      ]
    },
    {
      "cell_type": "code",
      "metadata": {
        "id": "L6C2WOGv78Tp",
        "colab_type": "code",
        "colab": {},
        "outputId": "d406e04a-2862-49df-e637-90f5113e308f"
      },
      "source": [
        "fig = plt.figure()\n",
        "temp1.plot(kind='bar')\n",
        "fig.suptitle('Probability of getting loan by credit history', fontsize=20)\n",
        "plt.xlabel('Credit_History', fontsize=18)\n",
        "plt.ylabel('Probability of getting loan', fontsize=16)"
      ],
      "execution_count": 0,
      "outputs": [
        {
          "output_type": "execute_result",
          "data": {
            "text/plain": [
              "Text(0,0.5,'Probability of getting loan')"
            ]
          },
          "metadata": {
            "tags": []
          },
          "execution_count": 29
        },
        {
          "output_type": "display_data",
          "data": {
            "image/png": "[encoded data removed]",
            "text/plain": [
              "<matplotlib.figure.Figure at 0x1ed0d9f90b8>"
            ]
          },
          "metadata": {
            "tags": []
          }
        }
      ]
    },
    {
      "cell_type": "code",
      "metadata": {
        "id": "m9dWBzN078Ts",
        "colab_type": "code",
        "colab": {}
      },
      "source": [
        "#***************************************************************************************************************\n",
        "#***************************               Missing value handling                    ***************************\n",
        "#***************************************************************************************************************"
      ],
      "execution_count": 0,
      "outputs": []
    },
    {
      "cell_type": "code",
      "metadata": {
        "id": "9PaJ2Uc-78Tv",
        "colab_type": "code",
        "colab": {}
      },
      "source": [
        "def missing_values_table(df):\n",
        "        mis_val = df.isnull().sum()\n",
        "        mis_val_percent = 100 * df.isnull().sum() / len(df)\n",
        "        mis_val_table = pd.concat([mis_val, mis_val_percent], axis=1)\n",
        "        mis_val_table_ren_columns = mis_val_table.rename(columns = {0 : 'Missing Values', 1 : '% of Total Values'})\n",
        "        \n",
        "        mis_val_table_ren_columns = mis_val_table_ren_columns[mis_val_table_ren_columns.iloc[:,1] != 0].sort_values(\n",
        "        '% of Total Values', ascending=False).round(1)\n",
        "        \n",
        "        print (\"Your selected dataframe has \" + str(df.shape[1]) + \" columns.\\n\"      \n",
        "            \"There are \" + str(mis_val_table_ren_columns.shape[0]) +\n",
        "              \" columns that have missing values.\")\n",
        "        \n",
        "        return mis_val_table_ren_columns"
      ],
      "execution_count": 0,
      "outputs": []
    },
    {
      "cell_type": "code",
      "metadata": {
        "id": "CZbjU1hd78Tz",
        "colab_type": "code",
        "colab": {},
        "outputId": "b12add95-8b0a-42ab-9820-37b1f75b40f7"
      },
      "source": [
        "missing_values_table(df)"
      ],
      "execution_count": 0,
      "outputs": [
        {
          "output_type": "stream",
          "text": [
            "Your selected dataframe has 13 columns.\n",
            "There are 7 columns that have missing values.\n"
          ],
          "name": "stdout"
        },
        {
          "output_type": "execute_result",
          "data": {
            "text/html": [
              "<div>\n",
              "<style scoped>\n",
              "    .dataframe tbody tr th:only-of-type {\n",
              "        vertical-align: middle;\n",
              "    }\n",
              "\n",
              "    .dataframe tbody tr th {\n",
              "        vertical-align: top;\n",
              "    }\n",
              "\n",
              "    .dataframe thead th {\n",
              "        text-align: right;\n",
              "    }\n",
              "</style>\n",
              "<table border=\"1\" class=\"dataframe\">\n",
              "  <thead>\n",
              "    <tr style=\"text-align: right;\">\n",
              "      <th></th>\n",
              "      <th>Missing Values</th>\n",
              "      <th>% of Total Values</th>\n",
              "    </tr>\n",
              "  </thead>\n",
              "  <tbody>\n",
              "    <tr>\n",
              "      <th>Credit_History</th>\n",
              "      <td>50</td>\n",
              "      <td>8.1</td>\n",
              "    </tr>\n",
              "    <tr>\n",
              "      <th>Self_Employed</th>\n",
              "      <td>32</td>\n",
              "      <td>5.2</td>\n",
              "    </tr>\n",
              "    <tr>\n",
              "      <th>LoanAmount</th>\n",
              "      <td>22</td>\n",
              "      <td>3.6</td>\n",
              "    </tr>\n",
              "    <tr>\n",
              "      <th>Dependents</th>\n",
              "      <td>15</td>\n",
              "      <td>2.4</td>\n",
              "    </tr>\n",
              "    <tr>\n",
              "      <th>Loan_Amount_Term</th>\n",
              "      <td>14</td>\n",
              "      <td>2.3</td>\n",
              "    </tr>\n",
              "    <tr>\n",
              "      <th>Gender</th>\n",
              "      <td>13</td>\n",
              "      <td>2.1</td>\n",
              "    </tr>\n",
              "    <tr>\n",
              "      <th>Married</th>\n",
              "      <td>3</td>\n",
              "      <td>0.5</td>\n",
              "    </tr>\n",
              "  </tbody>\n",
              "</table>\n",
              "</div>"
            ],
            "text/plain": [
              "                  Missing Values  % of Total Values\n",
              "Credit_History                50                8.1\n",
              "Self_Employed                 32                5.2\n",
              "LoanAmount                    22                3.6\n",
              "Dependents                    15                2.4\n",
              "Loan_Amount_Term              14                2.3\n",
              "Gender                        13                2.1\n",
              "Married                        3                0.5"
            ]
          },
          "metadata": {
            "tags": []
          },
          "execution_count": 32
        }
      ]
    },
    {
      "cell_type": "code",
      "metadata": {
        "id": "G1Q86hk178T4",
        "colab_type": "code",
        "colab": {},
        "outputId": "e4768bc3-9f4a-4338-a306-b0d94d29784e"
      },
      "source": [
        "#impute loan amount column based on self emplyoed and education\n",
        "#impute self empoloyed first\n",
        "df['Self_Employed'].value_counts()"
      ],
      "execution_count": 0,
      "outputs": [
        {
          "output_type": "execute_result",
          "data": {
            "text/plain": [
              "No     500\n",
              "Yes     82\n",
              "Name: Self_Employed, dtype: int64"
            ]
          },
          "metadata": {
            "tags": []
          },
          "execution_count": 33
        }
      ]
    },
    {
      "cell_type": "code",
      "metadata": {
        "id": "RW4y8sFM78T9",
        "colab_type": "code",
        "colab": {}
      },
      "source": [
        " #impute missing value with No (median)more than 500 no from 600 total\n",
        "df['Self_Employed'].fillna('No',inplace=True)"
      ],
      "execution_count": 0,
      "outputs": []
    },
    {
      "cell_type": "code",
      "metadata": {
        "id": "hRUOWV0F78UA",
        "colab_type": "code",
        "colab": {},
        "outputId": "f61c53bf-a1bb-483e-926e-5bc558a8ff57"
      },
      "source": [
        "df['Education'].value_counts()"
      ],
      "execution_count": 0,
      "outputs": [
        {
          "output_type": "execute_result",
          "data": {
            "text/plain": [
              "Graduate        480\n",
              "Not Graduate    134\n",
              "Name: Education, dtype: int64"
            ]
          },
          "metadata": {
            "tags": []
          },
          "execution_count": 35
        }
      ]
    },
    {
      "cell_type": "code",
      "metadata": {
        "id": "eKx4V1b678UD",
        "colab_type": "code",
        "colab": {}
      },
      "source": [
        "# Replace missing values\n",
        "df['LoanAmount'] = df.groupby(['Education','Self_Employed'])['LoanAmount'].apply(lambda x: x.fillna(x.median()))"
      ],
      "execution_count": 0,
      "outputs": []
    },
    {
      "cell_type": "code",
      "metadata": {
        "id": "rcC0ZJD278UH",
        "colab_type": "code",
        "colab": {},
        "outputId": "8fb62534-89aa-4f09-c03d-5014373971e8"
      },
      "source": [
        "df['Married'].value_counts()"
      ],
      "execution_count": 0,
      "outputs": [
        {
          "output_type": "execute_result",
          "data": {
            "text/plain": [
              "Yes    398\n",
              "No     213\n",
              "Name: Married, dtype: int64"
            ]
          },
          "metadata": {
            "tags": []
          },
          "execution_count": 37
        }
      ]
    },
    {
      "cell_type": "code",
      "metadata": {
        "id": "I6W-Czo378UN",
        "colab_type": "code",
        "colab": {}
      },
      "source": [
        "#impute missing value with Yes (median)\n",
        "df['Married'].fillna('Yes',inplace=True)"
      ],
      "execution_count": 0,
      "outputs": []
    },
    {
      "cell_type": "code",
      "metadata": {
        "id": "z01B3Dy078UU",
        "colab_type": "code",
        "colab": {},
        "outputId": "b02bf4d0-f993-4307-df73-6b0f6c439b77"
      },
      "source": [
        "df['Dependents'].value_counts()"
      ],
      "execution_count": 0,
      "outputs": [
        {
          "output_type": "execute_result",
          "data": {
            "text/plain": [
              "0     345\n",
              "1     102\n",
              "2     101\n",
              "3+     51\n",
              "Name: Dependents, dtype: int64"
            ]
          },
          "metadata": {
            "tags": []
          },
          "execution_count": 39
        }
      ]
    },
    {
      "cell_type": "code",
      "metadata": {
        "id": "-r7Ju8iq78Ua",
        "colab_type": "code",
        "colab": {}
      },
      "source": [
        " #impute missing value with 0 (median)\n",
        "df['Dependents'].fillna('0',inplace=True)"
      ],
      "execution_count": 0,
      "outputs": []
    },
    {
      "cell_type": "code",
      "metadata": {
        "id": "4Pl31Jr_78Ue",
        "colab_type": "code",
        "colab": {},
        "outputId": "b9eae8ab-6e1e-457d-ad8f-d6330f502d04"
      },
      "source": [
        "df['Gender'].value_counts()"
      ],
      "execution_count": 0,
      "outputs": [
        {
          "output_type": "execute_result",
          "data": {
            "text/plain": [
              "Male      489\n",
              "Female    112\n",
              "Name: Gender, dtype: int64"
            ]
          },
          "metadata": {
            "tags": []
          },
          "execution_count": 41
        }
      ]
    },
    {
      "cell_type": "code",
      "metadata": {
        "id": "s-bxd3rb78Uh",
        "colab_type": "code",
        "colab": {}
      },
      "source": [
        " #impute missing value with Male (median)\n",
        "df['Gender'].fillna('Male',inplace=True)"
      ],
      "execution_count": 0,
      "outputs": []
    },
    {
      "cell_type": "code",
      "metadata": {
        "id": "KI3-GvLN78Uk",
        "colab_type": "code",
        "colab": {},
        "outputId": "5d4e95d1-b002-4265-a5c2-1247785716b5"
      },
      "source": [
        "df['Credit_History'].value_counts()"
      ],
      "execution_count": 0,
      "outputs": [
        {
          "output_type": "execute_result",
          "data": {
            "text/plain": [
              "1.0    475\n",
              "0.0     89\n",
              "Name: Credit_History, dtype: int64"
            ]
          },
          "metadata": {
            "tags": []
          },
          "execution_count": 43
        }
      ]
    },
    {
      "cell_type": "code",
      "metadata": {
        "id": "qvJoHGqe78Un",
        "colab_type": "code",
        "colab": {}
      },
      "source": [
        "#impute missing value with 1 (median)\n",
        "df['Credit_History'].fillna(1.0,inplace=True)"
      ],
      "execution_count": 0,
      "outputs": []
    },
    {
      "cell_type": "code",
      "metadata": {
        "id": "rkregjzE78Uv",
        "colab_type": "code",
        "colab": {},
        "outputId": "704cf322-1752-4056-85d7-78f92a6a3c4d"
      },
      "source": [
        "df['Loan_Amount_Term'].value_counts()"
      ],
      "execution_count": 0,
      "outputs": [
        {
          "output_type": "execute_result",
          "data": {
            "text/plain": [
              "360.0    512\n",
              "180.0     44\n",
              "480.0     15\n",
              "300.0     13\n",
              "84.0       4\n",
              "240.0      4\n",
              "120.0      3\n",
              "36.0       2\n",
              "60.0       2\n",
              "12.0       1\n",
              "Name: Loan_Amount_Term, dtype: int64"
            ]
          },
          "metadata": {
            "tags": []
          },
          "execution_count": 45
        }
      ]
    },
    {
      "cell_type": "code",
      "metadata": {
        "id": "p4yjUnEs78U7",
        "colab_type": "code",
        "colab": {}
      },
      "source": [
        " #impute missing value with 360 (median)\n",
        "df['Loan_Amount_Term'].fillna(360.0,inplace=True)"
      ],
      "execution_count": 0,
      "outputs": []
    },
    {
      "cell_type": "code",
      "metadata": {
        "id": "SY8WUNnf78VE",
        "colab_type": "code",
        "colab": {}
      },
      "source": [
        "#more visualization"
      ],
      "execution_count": 0,
      "outputs": []
    },
    {
      "cell_type": "code",
      "metadata": {
        "id": "_FZt45MU78VK",
        "colab_type": "code",
        "colab": {},
        "outputId": "8c6411a2-f826-4e1b-c8b8-765f50c80954"
      },
      "source": [
        "grid = sns.FacetGrid(df, row='Gender', col='Married', size=3, aspect=1.6)\n",
        "grid.map(plt.hist, 'ApplicantIncome', alpha=.5, bins=10,color='red',edgecolor='black')\n",
        "grid.add_legend()\n"
      ],
      "execution_count": 0,
      "outputs": [
        {
          "output_type": "execute_result",
          "data": {
            "text/plain": [
              "<seaborn.axisgrid.FacetGrid at 0x1ed0daf8518>"
            ]
          },
          "metadata": {
            "tags": []
          },
          "execution_count": 48
        },
        {
          "output_type": "display_data",
          "data": {
            "image/png": "[encoded data removed]",
            "text/plain": [
              "<matplotlib.figure.Figure at 0x1ed0daf8b70>"
            ]
          },
          "metadata": {
            "tags": []
          }
        }
      ]
    },
    {
      "cell_type": "code",
      "metadata": {
        "id": "c3WY4drs78VS",
        "colab_type": "code",
        "colab": {},
        "outputId": "e124e74b-80c0-4634-abb4-02fdbad01a8d"
      },
      "source": [
        "grid = sns.FacetGrid(df, row='Gender', col='Married', size=2.2, aspect=1.6)\n",
        "grid.map(plt.scatter, 'ApplicantIncome','LoanAmount' ,color='r',edgecolor='black')\n",
        "grid.add_legend()"
      ],
      "execution_count": 0,
      "outputs": [
        {
          "output_type": "execute_result",
          "data": {
            "text/plain": [
              "<seaborn.axisgrid.FacetGrid at 0x1ed0daf8780>"
            ]
          },
          "metadata": {
            "tags": []
          },
          "execution_count": 49
        },
        {
          "output_type": "display_data",
          "data": {
            "image/png": "[encoded data removed]",
            "text/plain": [
              "<matplotlib.figure.Figure at 0x1ed0daf84a8>"
            ]
          },
          "metadata": {
            "tags": []
          }
        }
      ]
    },
    {
      "cell_type": "code",
      "metadata": {
        "id": "3_bpxogP78VY",
        "colab_type": "code",
        "colab": {},
        "outputId": "e0392f3e-18b0-4c89-aec5-0ebb56157445"
      },
      "source": [
        "grid = sns.FacetGrid(df, row='Gender', col='Education', size=2.2, aspect=1.6)\n",
        "grid.map(plt.hist, 'ApplicantIncome', alpha=.5, bins=10,color='r',edgecolor='black')\n",
        "grid.add_legend()"
      ],
      "execution_count": 0,
      "outputs": [
        {
          "output_type": "execute_result",
          "data": {
            "text/plain": [
              "<seaborn.axisgrid.FacetGrid at 0x1ed0df3dc88>"
            ]
          },
          "metadata": {
            "tags": []
          },
          "execution_count": 50
        },
        {
          "output_type": "display_data",
          "data": {
            "image/png": "[encoded data removed]",
            "text/plain": [
              "<matplotlib.figure.Figure at 0x1ed0df3db70>"
            ]
          },
          "metadata": {
            "tags": []
          }
        }
      ]
    },
    {
      "cell_type": "code",
      "metadata": {
        "id": "nLTebyJF78Vc",
        "colab_type": "code",
        "colab": {},
        "outputId": "aafb6581-566d-4449-c902-75a1606d888b"
      },
      "source": [
        "grid = sns.FacetGrid(df, row='Gender', col='Education', size=2.2, aspect=1.6)\n",
        "grid.map(plt.hist, 'ApplicantIncome', alpha=.5, bins=10,color='r',edgecolor='black')\n",
        "grid.add_legend()"
      ],
      "execution_count": 0,
      "outputs": [
        {
          "output_type": "execute_result",
          "data": {
            "text/plain": [
              "<seaborn.axisgrid.FacetGrid at 0x1ed0e095a20>"
            ]
          },
          "metadata": {
            "tags": []
          },
          "execution_count": 51
        },
        {
          "output_type": "display_data",
          "data": {
            "image/png": "[encoded data removed]",
            "text/plain": [
              "<matplotlib.figure.Figure at 0x1ed0dfc5390>"
            ]
          },
          "metadata": {
            "tags": []
          }
        }
      ]
    },
    {
      "cell_type": "code",
      "metadata": {
        "id": "kg3znyeL78Vi",
        "colab_type": "code",
        "colab": {},
        "outputId": "b272e092-da51-4063-bd1b-d629da6f424f"
      },
      "source": [
        "grid = sns.FacetGrid(df, row='Married', col='Dependents', size=3.2, aspect=1.6)\n",
        "grid.map(plt.hist, 'ApplicantIncome', alpha=.5, bins=10,color='r',edgecolor='black')\n",
        "grid.add_legend()"
      ],
      "execution_count": 0,
      "outputs": [
        {
          "output_type": "execute_result",
          "data": {
            "text/plain": [
              "<seaborn.axisgrid.FacetGrid at 0x1ed0e1650f0>"
            ]
          },
          "metadata": {
            "tags": []
          },
          "execution_count": 52
        },
        {
          "output_type": "display_data",
          "data": {
            "image/png": "[encoded data removed]",
            "text/plain": [
              "<matplotlib.figure.Figure at 0x1ed0e26f358>"
            ]
          },
          "metadata": {
            "tags": []
          }
        }
      ]
    },
    {
      "cell_type": "code",
      "metadata": {
        "id": "3IKRhg_S78Vl",
        "colab_type": "code",
        "colab": {},
        "outputId": "28edc153-a723-45cc-e83d-0ef9e4da3688"
      },
      "source": [
        "grid = sns.FacetGrid(df, row='Education', col='Credit_History', size=2.2, aspect=1.6)\n",
        "grid.map(plt.hist, 'ApplicantIncome', alpha=.5, bins=10,color='r',edgecolor='black')\n",
        "grid.add_legend()"
      ],
      "execution_count": 0,
      "outputs": [
        {
          "output_type": "execute_result",
          "data": {
            "text/plain": [
              "<seaborn.axisgrid.FacetGrid at 0x1ed0f920c50>"
            ]
          },
          "metadata": {
            "tags": []
          },
          "execution_count": 53
        },
        {
          "output_type": "display_data",
          "data": {
            "image/png": "[encoded data removed]",
            "text/plain": [
              "<matplotlib.figure.Figure at 0x1ed0f8ef4e0>"
            ]
          },
          "metadata": {
            "tags": []
          }
        }
      ]
    },
    {
      "cell_type": "code",
      "metadata": {
        "id": "gHFPcrPD78Vn",
        "colab_type": "code",
        "colab": {},
        "outputId": "d1736c5e-163b-44a9-9a3c-5944abe072eb"
      },
      "source": [
        "grid = sns.FacetGrid(df, row='Credit_History', col='Property_Area', size=2.2, aspect=1.6)\n",
        "grid.map(plt.hist, 'LoanAmount', alpha=.5, bins=10,color='r',edgecolor='black')\n",
        "grid.add_legend()"
      ],
      "execution_count": 0,
      "outputs": [
        {
          "output_type": "execute_result",
          "data": {
            "text/plain": [
              "<seaborn.axisgrid.FacetGrid at 0x1ed0f5d4588>"
            ]
          },
          "metadata": {
            "tags": []
          },
          "execution_count": 54
        },
        {
          "output_type": "display_data",
          "data": {
            "image/png": "[encoded data removed]",
            "text/plain": [
              "<matplotlib.figure.Figure at 0x1ed0f620b00>"
            ]
          },
          "metadata": {
            "tags": []
          }
        }
      ]
    },
    {
      "cell_type": "code",
      "metadata": {
        "id": "-gcD5RPX78Vs",
        "colab_type": "code",
        "colab": {},
        "outputId": "a816d043-1745-4ad3-8275-f07240d693ee"
      },
      "source": [
        "var_name = \"LoanAmount\"\n",
        "plt.figure(figsize=(12,6))\n",
        "sns.regplot(x=var_name, y='ApplicantIncome', data=df, scatter_kws={'alpha':0.5, 's':30})\n",
        "plt.xlabel(var_name, fontsize=12)\n",
        "plt.ylabel('ApplicantIncome', fontsize=12)\n",
        "plt.title(\"Distribution of y variable with \"+var_name, fontsize=15)\n",
        "plt.show()"
      ],
      "execution_count": 0,
      "outputs": [
        {
          "output_type": "display_data",
          "data": {
            "image/png": "[encoded data removed]",
            "text/plain": [
              "<matplotlib.figure.Figure at 0x1ed0fad0e10>"
            ]
          },
          "metadata": {
            "tags": []
          }
        }
      ]
    },
    {
      "cell_type": "code",
      "metadata": {
        "id": "k1RmsigI78Vz",
        "colab_type": "code",
        "colab": {},
        "outputId": "820a3244-0f16-490c-a14d-17cd67c1ee28"
      },
      "source": [
        "fig, axes = plt.subplots(ncols=3,figsize=(12,6))\n",
        "\n",
        "g = sns.countplot(df[\"Gender\"], ax=axes[0])\n",
        "plt.setp(g.get_xticklabels(), rotation=90)\n",
        "g = sns.countplot(df[\"Married\"], ax=axes[1])\n",
        "plt.setp(g.get_xticklabels(), rotation=90)\n",
        "g = sns.countplot(df[\"Dependents\"], ax=axes[2])\n",
        "plt.setp(g.get_xticklabels(), rotation=90)\n",
        "\n",
        "plt.tight_layout()\n",
        "plt.show()\n",
        "plt.gcf().clear()"
      ],
      "execution_count": 0,
      "outputs": [
        {
          "output_type": "display_data",
          "data": {
            "image/png": "[encoded data removed]",
            "text/plain": [
              "<matplotlib.figure.Figure at 0x1ed0fb300b8>"
            ]
          },
          "metadata": {
            "tags": []
          }
        },
        {
          "output_type": "display_data",
          "data": {
            "text/plain": [
              "<matplotlib.figure.Figure at 0x1ed0fbe0550>"
            ]
          },
          "metadata": {
            "tags": []
          }
        }
      ]
    },
    {
      "cell_type": "code",
      "metadata": {
        "id": "t2N3gbm578V2",
        "colab_type": "code",
        "colab": {},
        "outputId": "c3f6ac51-cc97-42ee-c1fc-fdc11a294d20"
      },
      "source": [
        "fig, axes = plt.subplots(ncols=3,figsize=(12,6))\n",
        "\n",
        "g = sns.countplot(df[\"Education\"], ax=axes[0])\n",
        "plt.setp(g.get_xticklabels(), rotation=90)\n",
        "g = sns.countplot(df[\"Self_Employed\"], ax=axes[1])\n",
        "plt.setp(g.get_xticklabels(), rotation=90)\n",
        "g = sns.countplot(df[\"Property_Area\"], ax=axes[2])\n",
        "plt.setp(g.get_xticklabels(), rotation=90)\n",
        "\n",
        "plt.tight_layout()\n",
        "plt.show()\n",
        "plt.gcf().clear()"
      ],
      "execution_count": 0,
      "outputs": [
        {
          "output_type": "display_data",
          "data": {
            "image/png": "[encoded data removed]",
            "text/plain": [
              "<matplotlib.figure.Figure at 0x1ed1011d7f0>"
            ]
          },
          "metadata": {
            "tags": []
          }
        },
        {
          "output_type": "display_data",
          "data": {
            "text/plain": [
              "<matplotlib.figure.Figure at 0x1ed101b86a0>"
            ]
          },
          "metadata": {
            "tags": []
          }
        }
      ]
    },
    {
      "cell_type": "code",
      "metadata": {
        "id": "woggRx9v78V4",
        "colab_type": "code",
        "colab": {}
      },
      "source": [
        "#***************************************************************************************************************\n",
        "#***************************                      Normalization                      ***************************\n",
        "#***************************************************************************************************************"
      ],
      "execution_count": 0,
      "outputs": []
    },
    {
      "cell_type": "code",
      "metadata": {
        "id": "A5F2crTz78V7",
        "colab_type": "code",
        "colab": {}
      },
      "source": [
        "# checking for distribution of continuous variables and transform them on the same scale"
      ],
      "execution_count": 0,
      "outputs": []
    },
    {
      "cell_type": "code",
      "metadata": {
        "id": "rC67rocS78V9",
        "colab_type": "code",
        "colab": {},
        "outputId": "5a6c1758-b305-4ba7-e254-3020888c5934"
      },
      "source": [
        "df['LoanAmount'].hist(bins=20,color=\"g\",edgecolor='black',grid=False)"
      ],
      "execution_count": 0,
      "outputs": [
        {
          "output_type": "execute_result",
          "data": {
            "text/plain": [
              "<matplotlib.axes._subplots.AxesSubplot at 0x1ed0e24b470>"
            ]
          },
          "metadata": {
            "tags": []
          },
          "execution_count": 60
        },
        {
          "output_type": "display_data",
          "data": {
            "image/png": "[encoded data removed]",
            "text/plain": [
              "<matplotlib.figure.Figure at 0x1ed0f8d87f0>"
            ]
          },
          "metadata": {
            "tags": []
          }
        }
      ]
    },
    {
      "cell_type": "code",
      "metadata": {
        "id": "Ln2UKzuI78WD",
        "colab_type": "code",
        "colab": {},
        "outputId": "8a655ede-dc8c-4f23-b291-234c8b31d22a"
      },
      "source": [
        "#log transformation\n",
        "df['LoanAmount_log'] = np.log(df['LoanAmount'])\n",
        "df['LoanAmount_log'].hist(bins=20,color=\"g\",edgecolor='black',grid=False)"
      ],
      "execution_count": 0,
      "outputs": [
        {
          "output_type": "execute_result",
          "data": {
            "text/plain": [
              "<matplotlib.axes._subplots.AxesSubplot at 0x1ed10448470>"
            ]
          },
          "metadata": {
            "tags": []
          },
          "execution_count": 61
        },
        {
          "output_type": "display_data",
          "data": {
            "image/png": "[encoded data removed]",
            "text/plain": [
              "<matplotlib.figure.Figure at 0x1ed0d9c86d8>"
            ]
          },
          "metadata": {
            "tags": []
          }
        }
      ]
    },
    {
      "cell_type": "code",
      "metadata": {
        "id": "XRvPGp6978WM",
        "colab_type": "code",
        "colab": {},
        "outputId": "362ceac0-7fbd-4d83-8074-1689be9d6a96"
      },
      "source": [
        " # Combine applicant income and coapplicant income and then do log transformation \n",
        "df['ApplicantIncome'].hist(bins=20,fill=True,edgecolor='black',grid=False)\n",
        "df['CoapplicantIncome'].hist(bins=20,fill=True,edgecolor='black',grid=False)"
      ],
      "execution_count": 0,
      "outputs": [
        {
          "output_type": "execute_result",
          "data": {
            "text/plain": [
              "<matplotlib.axes._subplots.AxesSubplot at 0x1ed105546a0>"
            ]
          },
          "metadata": {
            "tags": []
          },
          "execution_count": 62
        },
        {
          "output_type": "display_data",
          "data": {
            "image/png": "[encoded data removed]",
            "text/plain": [
              "<matplotlib.figure.Figure at 0x1ed104dbcc0>"
            ]
          },
          "metadata": {
            "tags": []
          }
        }
      ]
    },
    {
      "cell_type": "code",
      "metadata": {
        "id": "ohdO5otX78WT",
        "colab_type": "code",
        "colab": {},
        "outputId": "9ef7f1dc-165d-4a1d-992a-a76b17fb95c9"
      },
      "source": [
        "df['TotalIncome'] = df['ApplicantIncome'] + df['CoapplicantIncome']\n",
        "df['TotalIncome_log'] = np.log(df['TotalIncome'])\n",
        "df['TotalIncome_log'].hist(bins=20,color='g',edgecolor='black',grid=False) "
      ],
      "execution_count": 0,
      "outputs": [
        {
          "output_type": "execute_result",
          "data": {
            "text/plain": [
              "<matplotlib.axes._subplots.AxesSubplot at 0x1ed106dfc88>"
            ]
          },
          "metadata": {
            "tags": []
          },
          "execution_count": 63
        },
        {
          "output_type": "display_data",
          "data": {
            "image/png": "[encoded data removed]",
            "text/plain": [
              "<matplotlib.figure.Figure at 0x1ed1076ba58>"
            ]
          },
          "metadata": {
            "tags": []
          }
        }
      ]
    },
    {
      "cell_type": "code",
      "metadata": {
        "id": "DpkgRDYE78Wa",
        "colab_type": "code",
        "colab": {},
        "outputId": "a33dfc4b-d8a2-4ead-e8ab-6bb151e4532b"
      },
      "source": [
        "df.boxplot(column='LoanAmount_log',grid=False) #Outliers present"
      ],
      "execution_count": 0,
      "outputs": [
        {
          "output_type": "execute_result",
          "data": {
            "text/plain": [
              "<matplotlib.axes._subplots.AxesSubplot at 0x1ed107b54a8>"
            ]
          },
          "metadata": {
            "tags": []
          },
          "execution_count": 64
        },
        {
          "output_type": "display_data",
          "data": {
            "image/png": "[encoded data removed]",
            "text/plain": [
              "<matplotlib.figure.Figure at 0x1ed104dd6d8>"
            ]
          },
          "metadata": {
            "tags": []
          }
        }
      ]
    },
    {
      "cell_type": "code",
      "metadata": {
        "id": "9_9DcxjG78Wf",
        "colab_type": "code",
        "colab": {}
      },
      "source": [
        "#***************************************************************************************************************\n",
        "#***************************              Building predictive models                 ***************************\n",
        "#***************************************************************************************************************"
      ],
      "execution_count": 0,
      "outputs": []
    },
    {
      "cell_type": "code",
      "metadata": {
        "id": "sLHTTC_n78Wi",
        "colab_type": "code",
        "colab": {},
        "outputId": "c99df67d-9520-4748-a96c-9b0e6afdffda"
      },
      "source": [
        "df.dtypes\n"
      ],
      "execution_count": 0,
      "outputs": [
        {
          "output_type": "execute_result",
          "data": {
            "text/plain": [
              "Loan_ID               object\n",
              "Gender                object\n",
              "Married               object\n",
              "Dependents            object\n",
              "Education             object\n",
              "Self_Employed         object\n",
              "ApplicantIncome        int64\n",
              "CoapplicantIncome    float64\n",
              "LoanAmount           float64\n",
              "Loan_Amount_Term     float64\n",
              "Credit_History       float64\n",
              "Property_Area         object\n",
              "Loan_Status           object\n",
              "LoanAmount_log       float64\n",
              "TotalIncome          float64\n",
              "TotalIncome_log      float64\n",
              "dtype: object"
            ]
          },
          "metadata": {
            "tags": []
          },
          "execution_count": 66
        }
      ]
    },
    {
      "cell_type": "code",
      "metadata": {
        "id": "eq_ne-nq78Wl",
        "colab_type": "code",
        "colab": {}
      },
      "source": [
        "feats = ['Gender','Married','Dependents','Education','Self_Employed','Property_Area','Loan_Status']\n",
        "df= pd.get_dummies(df,columns=feats,drop_first=True)"
      ],
      "execution_count": 0,
      "outputs": []
    },
    {
      "cell_type": "code",
      "metadata": {
        "id": "hsBznhKF78Wn",
        "colab_type": "code",
        "colab": {},
        "outputId": "8df95b07-0c47-43ca-8318-d84b3ea40ef2"
      },
      "source": [
        "df"
      ],
      "execution_count": 0,
      "outputs": [
        {
          "output_type": "execute_result",
          "data": {
            "text/html": [
              "<div>\n",
              "<style scoped>\n",
              "    .dataframe tbody tr th:only-of-type {\n",
              "        vertical-align: middle;\n",
              "    }\n",
              "\n",
              "    .dataframe tbody tr th {\n",
              "        vertical-align: top;\n",
              "    }\n",
              "\n",
              "    .dataframe thead th {\n",
              "        text-align: right;\n",
              "    }\n",
              "</style>\n",
              "<table border=\"1\" class=\"dataframe\">\n",
              "  <thead>\n",
              "    <tr style=\"text-align: right;\">\n",
              "      <th></th>\n",
              "      <th>Loan_ID</th>\n",
              "      <th>ApplicantIncome</th>\n",
              "      <th>CoapplicantIncome</th>\n",
              "      <th>LoanAmount</th>\n",
              "      <th>Loan_Amount_Term</th>\n",
              "      <th>Credit_History</th>\n",
              "      <th>LoanAmount_log</th>\n",
              "      <th>TotalIncome</th>\n",
              "      <th>TotalIncome_log</th>\n",
              "      <th>Gender_Male</th>\n",
              "      <th>Married_Yes</th>\n",
              "      <th>Dependents_1</th>\n",
              "      <th>Dependents_2</th>\n",
              "      <th>Dependents_3+</th>\n",
              "      <th>Education_Not Graduate</th>\n",
              "      <th>Self_Employed_Yes</th>\n",
              "      <th>Property_Area_Semiurban</th>\n",
              "      <th>Property_Area_Urban</th>\n",
              "      <th>Loan_Status_Y</th>\n",
              "    </tr>\n",
              "  </thead>\n",
              "  <tbody>\n",
              "    <tr>\n",
              "      <th>0</th>\n",
              "      <td>LP001002</td>\n",
              "      <td>5849</td>\n",
              "      <td>0.0</td>\n",
              "      <td>130.0</td>\n",
              "      <td>360.0</td>\n",
              "      <td>1.0</td>\n",
              "      <td>4.867534</td>\n",
              "      <td>5849.0</td>\n",
              "      <td>8.674026</td>\n",
              "      <td>1</td>\n",
              "      <td>0</td>\n",
              "      <td>0</td>\n",
              "      <td>0</td>\n",
              "      <td>0</td>\n",
              "      <td>0</td>\n",
              "      <td>0</td>\n",
              "      <td>0</td>\n",
              "      <td>1</td>\n",
              "      <td>1</td>\n",
              "    </tr>\n",
              "    <tr>\n",
              "      <th>1</th>\n",
              "      <td>LP001003</td>\n",
              "      <td>4583</td>\n",
              "      <td>1508.0</td>\n",
              "      <td>128.0</td>\n",
              "      <td>360.0</td>\n",
              "      <td>1.0</td>\n",
              "      <td>4.852030</td>\n",
              "      <td>6091.0</td>\n",
              "      <td>8.714568</td>\n",
              "      <td>1</td>\n",
              "      <td>1</td>\n",
              "      <td>1</td>\n",
              "      <td>0</td>\n",
              "      <td>0</td>\n",
              "      <td>0</td>\n",
              "      <td>0</td>\n",
              "      <td>0</td>\n",
              "      <td>0</td>\n",
              "      <td>0</td>\n",
              "    </tr>\n",
              "    <tr>\n",
              "      <th>2</th>\n",
              "      <td>LP001005</td>\n",
              "      <td>3000</td>\n",
              "      <td>0.0</td>\n",
              "      <td>66.0</td>\n",
              "      <td>360.0</td>\n",
              "      <td>1.0</td>\n",
              "      <td>4.189655</td>\n",
              "      <td>3000.0</td>\n",
              "      <td>8.006368</td>\n",
              "      <td>1</td>\n",
              "      <td>1</td>\n",
              "      <td>0</td>\n",
              "      <td>0</td>\n",
              "      <td>0</td>\n",
              "      <td>0</td>\n",
              "      <td>1</td>\n",
              "      <td>0</td>\n",
              "      <td>1</td>\n",
              "      <td>1</td>\n",
              "    </tr>\n",
              "    <tr>\n",
              "      <th>3</th>\n",
              "      <td>LP001006</td>\n",
              "      <td>2583</td>\n",
              "      <td>2358.0</td>\n",
              "      <td>120.0</td>\n",
              "      <td>360.0</td>\n",
              "      <td>1.0</td>\n",
              "      <td>4.787492</td>\n",
              "      <td>4941.0</td>\n",
              "      <td>8.505323</td>\n",
              "      <td>1</td>\n",
              "      <td>1</td>\n",
              "      <td>0</td>\n",
              "      <td>0</td>\n",
              "      <td>0</td>\n",
              "      <td>1</td>\n",
              "      <td>0</td>\n",
              "      <td>0</td>\n",
              "      <td>1</td>\n",
              "      <td>1</td>\n",
              "    </tr>\n",
              "    <tr>\n",
              "      <th>4</th>\n",
              "      <td>LP001008</td>\n",
              "      <td>6000</td>\n",
              "      <td>0.0</td>\n",
              "      <td>141.0</td>\n",
              "      <td>360.0</td>\n",
              "      <td>1.0</td>\n",
              "      <td>4.948760</td>\n",
              "      <td>6000.0</td>\n",
              "      <td>8.699515</td>\n",
              "      <td>1</td>\n",
              "      <td>0</td>\n",
              "      <td>0</td>\n",
              "      <td>0</td>\n",
              "      <td>0</td>\n",
              "      <td>0</td>\n",
              "      <td>0</td>\n",
              "      <td>0</td>\n",
              "      <td>1</td>\n",
              "      <td>1</td>\n",
              "    </tr>\n",
              "    <tr>\n",
              "      <th>5</th>\n",
              "      <td>LP001011</td>\n",
              "      <td>5417</td>\n",
              "      <td>4196.0</td>\n",
              "      <td>267.0</td>\n",
              "      <td>360.0</td>\n",
              "      <td>1.0</td>\n",
              "      <td>5.587249</td>\n",
              "      <td>9613.0</td>\n",
              "      <td>9.170872</td>\n",
              "      <td>1</td>\n",
              "      <td>1</td>\n",
              "      <td>0</td>\n",
              "      <td>1</td>\n",
              "      <td>0</td>\n",
              "      <td>0</td>\n",
              "      <td>1</td>\n",
              "      <td>0</td>\n",
              "      <td>1</td>\n",
              "      <td>1</td>\n",
              "    </tr>\n",
              "    <tr>\n",
              "      <th>6</th>\n",
              "      <td>LP001013</td>\n",
              "      <td>2333</td>\n",
              "      <td>1516.0</td>\n",
              "      <td>95.0</td>\n",
              "      <td>360.0</td>\n",
              "      <td>1.0</td>\n",
              "      <td>4.553877</td>\n",
              "      <td>3849.0</td>\n",
              "      <td>8.255569</td>\n",
              "      <td>1</td>\n",
              "      <td>1</td>\n",
              "      <td>0</td>\n",
              "      <td>0</td>\n",
              "      <td>0</td>\n",
              "      <td>1</td>\n",
              "      <td>0</td>\n",
              "      <td>0</td>\n",
              "      <td>1</td>\n",
              "      <td>1</td>\n",
              "    </tr>\n",
              "    <tr>\n",
              "      <th>7</th>\n",
              "      <td>LP001014</td>\n",
              "      <td>3036</td>\n",
              "      <td>2504.0</td>\n",
              "      <td>158.0</td>\n",
              "      <td>360.0</td>\n",
              "      <td>0.0</td>\n",
              "      <td>5.062595</td>\n",
              "      <td>5540.0</td>\n",
              "      <td>8.619750</td>\n",
              "      <td>1</td>\n",
              "      <td>1</td>\n",
              "      <td>0</td>\n",
              "      <td>0</td>\n",
              "      <td>1</td>\n",
              "      <td>0</td>\n",
              "      <td>0</td>\n",
              "      <td>1</td>\n",
              "      <td>0</td>\n",
              "      <td>0</td>\n",
              "    </tr>\n",
              "    <tr>\n",
              "      <th>8</th>\n",
              "      <td>LP001018</td>\n",
              "      <td>4006</td>\n",
              "      <td>1526.0</td>\n",
              "      <td>168.0</td>\n",
              "      <td>360.0</td>\n",
              "      <td>1.0</td>\n",
              "      <td>5.123964</td>\n",
              "      <td>5532.0</td>\n",
              "      <td>8.618305</td>\n",
              "      <td>1</td>\n",
              "      <td>1</td>\n",
              "      <td>0</td>\n",
              "      <td>1</td>\n",
              "      <td>0</td>\n",
              "      <td>0</td>\n",
              "      <td>0</td>\n",
              "      <td>0</td>\n",
              "      <td>1</td>\n",
              "      <td>1</td>\n",
              "    </tr>\n",
              "    <tr>\n",
              "      <th>9</th>\n",
              "      <td>LP001020</td>\n",
              "      <td>12841</td>\n",
              "      <td>10968.0</td>\n",
              "      <td>349.0</td>\n",
              "      <td>360.0</td>\n",
              "      <td>1.0</td>\n",
              "      <td>5.855072</td>\n",
              "      <td>23809.0</td>\n",
              "      <td>10.077819</td>\n",
              "      <td>1</td>\n",
              "      <td>1</td>\n",
              "      <td>1</td>\n",
              "      <td>0</td>\n",
              "      <td>0</td>\n",
              "      <td>0</td>\n",
              "      <td>0</td>\n",
              "      <td>1</td>\n",
              "      <td>0</td>\n",
              "      <td>0</td>\n",
              "    </tr>\n",
              "    <tr>\n",
              "      <th>10</th>\n",
              "      <td>LP001024</td>\n",
              "      <td>3200</td>\n",
              "      <td>700.0</td>\n",
              "      <td>70.0</td>\n",
              "      <td>360.0</td>\n",
              "      <td>1.0</td>\n",
              "      <td>4.248495</td>\n",
              "      <td>3900.0</td>\n",
              "      <td>8.268732</td>\n",
              "      <td>1</td>\n",
              "      <td>1</td>\n",
              "      <td>0</td>\n",
              "      <td>1</td>\n",
              "      <td>0</td>\n",
              "      <td>0</td>\n",
              "      <td>0</td>\n",
              "      <td>0</td>\n",
              "      <td>1</td>\n",
              "      <td>1</td>\n",
              "    </tr>\n",
              "    <tr>\n",
              "      <th>11</th>\n",
              "      <td>LP001027</td>\n",
              "      <td>2500</td>\n",
              "      <td>1840.0</td>\n",
              "      <td>109.0</td>\n",
              "      <td>360.0</td>\n",
              "      <td>1.0</td>\n",
              "      <td>4.691348</td>\n",
              "      <td>4340.0</td>\n",
              "      <td>8.375630</td>\n",
              "      <td>1</td>\n",
              "      <td>1</td>\n",
              "      <td>0</td>\n",
              "      <td>1</td>\n",
              "      <td>0</td>\n",
              "      <td>0</td>\n",
              "      <td>0</td>\n",
              "      <td>0</td>\n",
              "      <td>1</td>\n",
              "      <td>1</td>\n",
              "    </tr>\n",
              "    <tr>\n",
              "      <th>12</th>\n",
              "      <td>LP001028</td>\n",
              "      <td>3073</td>\n",
              "      <td>8106.0</td>\n",
              "      <td>200.0</td>\n",
              "      <td>360.0</td>\n",
              "      <td>1.0</td>\n",
              "      <td>5.298317</td>\n",
              "      <td>11179.0</td>\n",
              "      <td>9.321792</td>\n",
              "      <td>1</td>\n",
              "      <td>1</td>\n",
              "      <td>0</td>\n",
              "      <td>1</td>\n",
              "      <td>0</td>\n",
              "      <td>0</td>\n",
              "      <td>0</td>\n",
              "      <td>0</td>\n",
              "      <td>1</td>\n",
              "      <td>1</td>\n",
              "    </tr>\n",
              "    <tr>\n",
              "      <th>13</th>\n",
              "      <td>LP001029</td>\n",
              "      <td>1853</td>\n",
              "      <td>2840.0</td>\n",
              "      <td>114.0</td>\n",
              "      <td>360.0</td>\n",
              "      <td>1.0</td>\n",
              "      <td>4.736198</td>\n",
              "      <td>4693.0</td>\n",
              "      <td>8.453827</td>\n",
              "      <td>1</td>\n",
              "      <td>0</td>\n",
              "      <td>0</td>\n",
              "      <td>0</td>\n",
              "      <td>0</td>\n",
              "      <td>0</td>\n",
              "      <td>0</td>\n",
              "      <td>0</td>\n",
              "      <td>0</td>\n",
              "      <td>0</td>\n",
              "    </tr>\n",
              "    <tr>\n",
              "      <th>14</th>\n",
              "      <td>LP001030</td>\n",
              "      <td>1299</td>\n",
              "      <td>1086.0</td>\n",
              "      <td>17.0</td>\n",
              "      <td>120.0</td>\n",
              "      <td>1.0</td>\n",
              "      <td>2.833213</td>\n",
              "      <td>2385.0</td>\n",
              "      <td>7.776954</td>\n",
              "      <td>1</td>\n",
              "      <td>1</td>\n",
              "      <td>0</td>\n",
              "      <td>1</td>\n",
              "      <td>0</td>\n",
              "      <td>0</td>\n",
              "      <td>0</td>\n",
              "      <td>0</td>\n",
              "      <td>1</td>\n",
              "      <td>1</td>\n",
              "    </tr>\n",
              "    <tr>\n",
              "      <th>15</th>\n",
              "      <td>LP001032</td>\n",
              "      <td>4950</td>\n",
              "      <td>0.0</td>\n",
              "      <td>125.0</td>\n",
              "      <td>360.0</td>\n",
              "      <td>1.0</td>\n",
              "      <td>4.828314</td>\n",
              "      <td>4950.0</td>\n",
              "      <td>8.507143</td>\n",
              "      <td>1</td>\n",
              "      <td>0</td>\n",
              "      <td>0</td>\n",
              "      <td>0</td>\n",
              "      <td>0</td>\n",
              "      <td>0</td>\n",
              "      <td>0</td>\n",
              "      <td>0</td>\n",
              "      <td>1</td>\n",
              "      <td>1</td>\n",
              "    </tr>\n",
              "    <tr>\n",
              "      <th>16</th>\n",
              "      <td>LP001034</td>\n",
              "      <td>3596</td>\n",
              "      <td>0.0</td>\n",
              "      <td>100.0</td>\n",
              "      <td>240.0</td>\n",
              "      <td>1.0</td>\n",
              "      <td>4.605170</td>\n",
              "      <td>3596.0</td>\n",
              "      <td>8.187577</td>\n",
              "      <td>1</td>\n",
              "      <td>0</td>\n",
              "      <td>1</td>\n",
              "      <td>0</td>\n",
              "      <td>0</td>\n",
              "      <td>1</td>\n",
              "      <td>0</td>\n",
              "      <td>0</td>\n",
              "      <td>1</td>\n",
              "      <td>1</td>\n",
              "    </tr>\n",
              "    <tr>\n",
              "      <th>17</th>\n",
              "      <td>LP001036</td>\n",
              "      <td>3510</td>\n",
              "      <td>0.0</td>\n",
              "      <td>76.0</td>\n",
              "      <td>360.0</td>\n",
              "      <td>0.0</td>\n",
              "      <td>4.330733</td>\n",
              "      <td>3510.0</td>\n",
              "      <td>8.163371</td>\n",
              "      <td>0</td>\n",
              "      <td>0</td>\n",
              "      <td>0</td>\n",
              "      <td>0</td>\n",
              "      <td>0</td>\n",
              "      <td>0</td>\n",
              "      <td>0</td>\n",
              "      <td>0</td>\n",
              "      <td>1</td>\n",
              "      <td>0</td>\n",
              "    </tr>\n",
              "    <tr>\n",
              "      <th>18</th>\n",
              "      <td>LP001038</td>\n",
              "      <td>4887</td>\n",
              "      <td>0.0</td>\n",
              "      <td>133.0</td>\n",
              "      <td>360.0</td>\n",
              "      <td>1.0</td>\n",
              "      <td>4.890349</td>\n",
              "      <td>4887.0</td>\n",
              "      <td>8.494334</td>\n",
              "      <td>1</td>\n",
              "      <td>1</td>\n",
              "      <td>0</td>\n",
              "      <td>0</td>\n",
              "      <td>0</td>\n",
              "      <td>1</td>\n",
              "      <td>0</td>\n",
              "      <td>0</td>\n",
              "      <td>0</td>\n",
              "      <td>0</td>\n",
              "    </tr>\n",
              "    <tr>\n",
              "      <th>19</th>\n",
              "      <td>LP001041</td>\n",
              "      <td>2600</td>\n",
              "      <td>3500.0</td>\n",
              "      <td>115.0</td>\n",
              "      <td>360.0</td>\n",
              "      <td>1.0</td>\n",
              "      <td>4.744932</td>\n",
              "      <td>6100.0</td>\n",
              "      <td>8.716044</td>\n",
              "      <td>1</td>\n",
              "      <td>1</td>\n",
              "      <td>0</td>\n",
              "      <td>0</td>\n",
              "      <td>0</td>\n",
              "      <td>0</td>\n",
              "      <td>0</td>\n",
              "      <td>0</td>\n",
              "      <td>1</td>\n",
              "      <td>1</td>\n",
              "    </tr>\n",
              "    <tr>\n",
              "      <th>20</th>\n",
              "      <td>LP001043</td>\n",
              "      <td>7660</td>\n",
              "      <td>0.0</td>\n",
              "      <td>104.0</td>\n",
              "      <td>360.0</td>\n",
              "      <td>0.0</td>\n",
              "      <td>4.644391</td>\n",
              "      <td>7660.0</td>\n",
              "      <td>8.943767</td>\n",
              "      <td>1</td>\n",
              "      <td>1</td>\n",
              "      <td>0</td>\n",
              "      <td>0</td>\n",
              "      <td>0</td>\n",
              "      <td>1</td>\n",
              "      <td>0</td>\n",
              "      <td>0</td>\n",
              "      <td>1</td>\n",
              "      <td>0</td>\n",
              "    </tr>\n",
              "    <tr>\n",
              "      <th>21</th>\n",
              "      <td>LP001046</td>\n",
              "      <td>5955</td>\n",
              "      <td>5625.0</td>\n",
              "      <td>315.0</td>\n",
              "      <td>360.0</td>\n",
              "      <td>1.0</td>\n",
              "      <td>5.752573</td>\n",
              "      <td>11580.0</td>\n",
              "      <td>9.357035</td>\n",
              "      <td>1</td>\n",
              "      <td>1</td>\n",
              "      <td>1</td>\n",
              "      <td>0</td>\n",
              "      <td>0</td>\n",
              "      <td>0</td>\n",
              "      <td>0</td>\n",
              "      <td>0</td>\n",
              "      <td>1</td>\n",
              "      <td>1</td>\n",
              "    </tr>\n",
              "    <tr>\n",
              "      <th>22</th>\n",
              "      <td>LP001047</td>\n",
              "      <td>2600</td>\n",
              "      <td>1911.0</td>\n",
              "      <td>116.0</td>\n",
              "      <td>360.0</td>\n",
              "      <td>0.0</td>\n",
              "      <td>4.753590</td>\n",
              "      <td>4511.0</td>\n",
              "      <td>8.414274</td>\n",
              "      <td>1</td>\n",
              "      <td>1</td>\n",
              "      <td>0</td>\n",
              "      <td>0</td>\n",
              "      <td>0</td>\n",
              "      <td>1</td>\n",
              "      <td>0</td>\n",
              "      <td>1</td>\n",
              "      <td>0</td>\n",
              "      <td>0</td>\n",
              "    </tr>\n",
              "    <tr>\n",
              "      <th>23</th>\n",
              "      <td>LP001050</td>\n",
              "      <td>3365</td>\n",
              "      <td>1917.0</td>\n",
              "      <td>112.0</td>\n",
              "      <td>360.0</td>\n",
              "      <td>0.0</td>\n",
              "      <td>4.718499</td>\n",
              "      <td>5282.0</td>\n",
              "      <td>8.572060</td>\n",
              "      <td>1</td>\n",
              "      <td>1</td>\n",
              "      <td>0</td>\n",
              "      <td>1</td>\n",
              "      <td>0</td>\n",
              "      <td>1</td>\n",
              "      <td>0</td>\n",
              "      <td>0</td>\n",
              "      <td>0</td>\n",
              "      <td>0</td>\n",
              "    </tr>\n",
              "    <tr>\n",
              "      <th>24</th>\n",
              "      <td>LP001052</td>\n",
              "      <td>3717</td>\n",
              "      <td>2925.0</td>\n",
              "      <td>151.0</td>\n",
              "      <td>360.0</td>\n",
              "      <td>1.0</td>\n",
              "      <td>5.017280</td>\n",
              "      <td>6642.0</td>\n",
              "      <td>8.801168</td>\n",
              "      <td>1</td>\n",
              "      <td>1</td>\n",
              "      <td>1</td>\n",
              "      <td>0</td>\n",
              "      <td>0</td>\n",
              "      <td>0</td>\n",
              "      <td>0</td>\n",
              "      <td>1</td>\n",
              "      <td>0</td>\n",
              "      <td>0</td>\n",
              "    </tr>\n",
              "    <tr>\n",
              "      <th>25</th>\n",
              "      <td>LP001066</td>\n",
              "      <td>9560</td>\n",
              "      <td>0.0</td>\n",
              "      <td>191.0</td>\n",
              "      <td>360.0</td>\n",
              "      <td>1.0</td>\n",
              "      <td>5.252273</td>\n",
              "      <td>9560.0</td>\n",
              "      <td>9.165343</td>\n",
              "      <td>1</td>\n",
              "      <td>1</td>\n",
              "      <td>0</td>\n",
              "      <td>0</td>\n",
              "      <td>0</td>\n",
              "      <td>0</td>\n",
              "      <td>1</td>\n",
              "      <td>1</td>\n",
              "      <td>0</td>\n",
              "      <td>1</td>\n",
              "    </tr>\n",
              "    <tr>\n",
              "      <th>26</th>\n",
              "      <td>LP001068</td>\n",
              "      <td>2799</td>\n",
              "      <td>2253.0</td>\n",
              "      <td>122.0</td>\n",
              "      <td>360.0</td>\n",
              "      <td>1.0</td>\n",
              "      <td>4.804021</td>\n",
              "      <td>5052.0</td>\n",
              "      <td>8.527539</td>\n",
              "      <td>1</td>\n",
              "      <td>1</td>\n",
              "      <td>0</td>\n",
              "      <td>0</td>\n",
              "      <td>0</td>\n",
              "      <td>0</td>\n",
              "      <td>0</td>\n",
              "      <td>1</td>\n",
              "      <td>0</td>\n",
              "      <td>1</td>\n",
              "    </tr>\n",
              "    <tr>\n",
              "      <th>27</th>\n",
              "      <td>LP001073</td>\n",
              "      <td>4226</td>\n",
              "      <td>1040.0</td>\n",
              "      <td>110.0</td>\n",
              "      <td>360.0</td>\n",
              "      <td>1.0</td>\n",
              "      <td>4.700480</td>\n",
              "      <td>5266.0</td>\n",
              "      <td>8.569026</td>\n",
              "      <td>1</td>\n",
              "      <td>1</td>\n",
              "      <td>0</td>\n",
              "      <td>1</td>\n",
              "      <td>0</td>\n",
              "      <td>1</td>\n",
              "      <td>0</td>\n",
              "      <td>0</td>\n",
              "      <td>1</td>\n",
              "      <td>1</td>\n",
              "    </tr>\n",
              "    <tr>\n",
              "      <th>28</th>\n",
              "      <td>LP001086</td>\n",
              "      <td>1442</td>\n",
              "      <td>0.0</td>\n",
              "      <td>35.0</td>\n",
              "      <td>360.0</td>\n",
              "      <td>1.0</td>\n",
              "      <td>3.555348</td>\n",
              "      <td>1442.0</td>\n",
              "      <td>7.273786</td>\n",
              "      <td>1</td>\n",
              "      <td>0</td>\n",
              "      <td>0</td>\n",
              "      <td>0</td>\n",
              "      <td>0</td>\n",
              "      <td>1</td>\n",
              "      <td>0</td>\n",
              "      <td>0</td>\n",
              "      <td>1</td>\n",
              "      <td>0</td>\n",
              "    </tr>\n",
              "    <tr>\n",
              "      <th>29</th>\n",
              "      <td>LP001087</td>\n",
              "      <td>3750</td>\n",
              "      <td>2083.0</td>\n",
              "      <td>120.0</td>\n",
              "      <td>360.0</td>\n",
              "      <td>1.0</td>\n",
              "      <td>4.787492</td>\n",
              "      <td>5833.0</td>\n",
              "      <td>8.671287</td>\n",
              "      <td>0</td>\n",
              "      <td>0</td>\n",
              "      <td>0</td>\n",
              "      <td>1</td>\n",
              "      <td>0</td>\n",
              "      <td>0</td>\n",
              "      <td>0</td>\n",
              "      <td>1</td>\n",
              "      <td>0</td>\n",
              "      <td>1</td>\n",
              "    </tr>\n",
              "    <tr>\n",
              "      <th>...</th>\n",
              "      <td>...</td>\n",
              "      <td>...</td>\n",
              "      <td>...</td>\n",
              "      <td>...</td>\n",
              "      <td>...</td>\n",
              "      <td>...</td>\n",
              "      <td>...</td>\n",
              "      <td>...</td>\n",
              "      <td>...</td>\n",
              "      <td>...</td>\n",
              "      <td>...</td>\n",
              "      <td>...</td>\n",
              "      <td>...</td>\n",
              "      <td>...</td>\n",
              "      <td>...</td>\n",
              "      <td>...</td>\n",
              "      <td>...</td>\n",
              "      <td>...</td>\n",
              "      <td>...</td>\n",
              "    </tr>\n",
              "    <tr>\n",
              "      <th>584</th>\n",
              "      <td>LP002911</td>\n",
              "      <td>2787</td>\n",
              "      <td>1917.0</td>\n",
              "      <td>146.0</td>\n",
              "      <td>360.0</td>\n",
              "      <td>0.0</td>\n",
              "      <td>4.983607</td>\n",
              "      <td>4704.0</td>\n",
              "      <td>8.456168</td>\n",
              "      <td>1</td>\n",
              "      <td>1</td>\n",
              "      <td>1</td>\n",
              "      <td>0</td>\n",
              "      <td>0</td>\n",
              "      <td>0</td>\n",
              "      <td>0</td>\n",
              "      <td>0</td>\n",
              "      <td>0</td>\n",
              "      <td>0</td>\n",
              "    </tr>\n",
              "    <tr>\n",
              "      <th>585</th>\n",
              "      <td>LP002912</td>\n",
              "      <td>4283</td>\n",
              "      <td>3000.0</td>\n",
              "      <td>172.0</td>\n",
              "      <td>84.0</td>\n",
              "      <td>1.0</td>\n",
              "      <td>5.147494</td>\n",
              "      <td>7283.0</td>\n",
              "      <td>8.893298</td>\n",
              "      <td>1</td>\n",
              "      <td>1</td>\n",
              "      <td>1</td>\n",
              "      <td>0</td>\n",
              "      <td>0</td>\n",
              "      <td>0</td>\n",
              "      <td>0</td>\n",
              "      <td>0</td>\n",
              "      <td>0</td>\n",
              "      <td>0</td>\n",
              "    </tr>\n",
              "    <tr>\n",
              "      <th>586</th>\n",
              "      <td>LP002916</td>\n",
              "      <td>2297</td>\n",
              "      <td>1522.0</td>\n",
              "      <td>104.0</td>\n",
              "      <td>360.0</td>\n",
              "      <td>1.0</td>\n",
              "      <td>4.644391</td>\n",
              "      <td>3819.0</td>\n",
              "      <td>8.247744</td>\n",
              "      <td>1</td>\n",
              "      <td>1</td>\n",
              "      <td>0</td>\n",
              "      <td>0</td>\n",
              "      <td>0</td>\n",
              "      <td>0</td>\n",
              "      <td>0</td>\n",
              "      <td>0</td>\n",
              "      <td>1</td>\n",
              "      <td>1</td>\n",
              "    </tr>\n",
              "    <tr>\n",
              "      <th>587</th>\n",
              "      <td>LP002917</td>\n",
              "      <td>2165</td>\n",
              "      <td>0.0</td>\n",
              "      <td>70.0</td>\n",
              "      <td>360.0</td>\n",
              "      <td>1.0</td>\n",
              "      <td>4.248495</td>\n",
              "      <td>2165.0</td>\n",
              "      <td>7.680176</td>\n",
              "      <td>0</td>\n",
              "      <td>0</td>\n",
              "      <td>0</td>\n",
              "      <td>0</td>\n",
              "      <td>0</td>\n",
              "      <td>1</td>\n",
              "      <td>0</td>\n",
              "      <td>1</td>\n",
              "      <td>0</td>\n",
              "      <td>1</td>\n",
              "    </tr>\n",
              "    <tr>\n",
              "      <th>588</th>\n",
              "      <td>LP002925</td>\n",
              "      <td>4750</td>\n",
              "      <td>0.0</td>\n",
              "      <td>94.0</td>\n",
              "      <td>360.0</td>\n",
              "      <td>1.0</td>\n",
              "      <td>4.543295</td>\n",
              "      <td>4750.0</td>\n",
              "      <td>8.465900</td>\n",
              "      <td>1</td>\n",
              "      <td>0</td>\n",
              "      <td>0</td>\n",
              "      <td>0</td>\n",
              "      <td>0</td>\n",
              "      <td>0</td>\n",
              "      <td>0</td>\n",
              "      <td>1</td>\n",
              "      <td>0</td>\n",
              "      <td>1</td>\n",
              "    </tr>\n",
              "    <tr>\n",
              "      <th>589</th>\n",
              "      <td>LP002926</td>\n",
              "      <td>2726</td>\n",
              "      <td>0.0</td>\n",
              "      <td>106.0</td>\n",
              "      <td>360.0</td>\n",
              "      <td>0.0</td>\n",
              "      <td>4.663439</td>\n",
              "      <td>2726.0</td>\n",
              "      <td>7.910591</td>\n",
              "      <td>1</td>\n",
              "      <td>1</td>\n",
              "      <td>0</td>\n",
              "      <td>1</td>\n",
              "      <td>0</td>\n",
              "      <td>0</td>\n",
              "      <td>1</td>\n",
              "      <td>1</td>\n",
              "      <td>0</td>\n",
              "      <td>0</td>\n",
              "    </tr>\n",
              "    <tr>\n",
              "      <th>590</th>\n",
              "      <td>LP002928</td>\n",
              "      <td>3000</td>\n",
              "      <td>3416.0</td>\n",
              "      <td>56.0</td>\n",
              "      <td>180.0</td>\n",
              "      <td>1.0</td>\n",
              "      <td>4.025352</td>\n",
              "      <td>6416.0</td>\n",
              "      <td>8.766550</td>\n",
              "      <td>1</td>\n",
              "      <td>1</td>\n",
              "      <td>0</td>\n",
              "      <td>0</td>\n",
              "      <td>0</td>\n",
              "      <td>0</td>\n",
              "      <td>0</td>\n",
              "      <td>1</td>\n",
              "      <td>0</td>\n",
              "      <td>1</td>\n",
              "    </tr>\n",
              "    <tr>\n",
              "      <th>591</th>\n",
              "      <td>LP002931</td>\n",
              "      <td>6000</td>\n",
              "      <td>0.0</td>\n",
              "      <td>205.0</td>\n",
              "      <td>240.0</td>\n",
              "      <td>1.0</td>\n",
              "      <td>5.323010</td>\n",
              "      <td>6000.0</td>\n",
              "      <td>8.699515</td>\n",
              "      <td>1</td>\n",
              "      <td>1</td>\n",
              "      <td>0</td>\n",
              "      <td>1</td>\n",
              "      <td>0</td>\n",
              "      <td>0</td>\n",
              "      <td>1</td>\n",
              "      <td>1</td>\n",
              "      <td>0</td>\n",
              "      <td>0</td>\n",
              "    </tr>\n",
              "    <tr>\n",
              "      <th>592</th>\n",
              "      <td>LP002933</td>\n",
              "      <td>9357</td>\n",
              "      <td>0.0</td>\n",
              "      <td>292.0</td>\n",
              "      <td>360.0</td>\n",
              "      <td>1.0</td>\n",
              "      <td>5.676754</td>\n",
              "      <td>9357.0</td>\n",
              "      <td>9.143880</td>\n",
              "      <td>1</td>\n",
              "      <td>0</td>\n",
              "      <td>0</td>\n",
              "      <td>0</td>\n",
              "      <td>1</td>\n",
              "      <td>0</td>\n",
              "      <td>1</td>\n",
              "      <td>1</td>\n",
              "      <td>0</td>\n",
              "      <td>1</td>\n",
              "    </tr>\n",
              "    <tr>\n",
              "      <th>593</th>\n",
              "      <td>LP002936</td>\n",
              "      <td>3859</td>\n",
              "      <td>3300.0</td>\n",
              "      <td>142.0</td>\n",
              "      <td>180.0</td>\n",
              "      <td>1.0</td>\n",
              "      <td>4.955827</td>\n",
              "      <td>7159.0</td>\n",
              "      <td>8.876126</td>\n",
              "      <td>1</td>\n",
              "      <td>1</td>\n",
              "      <td>0</td>\n",
              "      <td>0</td>\n",
              "      <td>0</td>\n",
              "      <td>0</td>\n",
              "      <td>0</td>\n",
              "      <td>0</td>\n",
              "      <td>0</td>\n",
              "      <td>1</td>\n",
              "    </tr>\n",
              "    <tr>\n",
              "      <th>594</th>\n",
              "      <td>LP002938</td>\n",
              "      <td>16120</td>\n",
              "      <td>0.0</td>\n",
              "      <td>260.0</td>\n",
              "      <td>360.0</td>\n",
              "      <td>1.0</td>\n",
              "      <td>5.560682</td>\n",
              "      <td>16120.0</td>\n",
              "      <td>9.687816</td>\n",
              "      <td>1</td>\n",
              "      <td>1</td>\n",
              "      <td>0</td>\n",
              "      <td>0</td>\n",
              "      <td>0</td>\n",
              "      <td>0</td>\n",
              "      <td>1</td>\n",
              "      <td>0</td>\n",
              "      <td>1</td>\n",
              "      <td>1</td>\n",
              "    </tr>\n",
              "    <tr>\n",
              "      <th>595</th>\n",
              "      <td>LP002940</td>\n",
              "      <td>3833</td>\n",
              "      <td>0.0</td>\n",
              "      <td>110.0</td>\n",
              "      <td>360.0</td>\n",
              "      <td>1.0</td>\n",
              "      <td>4.700480</td>\n",
              "      <td>3833.0</td>\n",
              "      <td>8.251403</td>\n",
              "      <td>1</td>\n",
              "      <td>0</td>\n",
              "      <td>0</td>\n",
              "      <td>0</td>\n",
              "      <td>0</td>\n",
              "      <td>1</td>\n",
              "      <td>0</td>\n",
              "      <td>0</td>\n",
              "      <td>0</td>\n",
              "      <td>1</td>\n",
              "    </tr>\n",
              "    <tr>\n",
              "      <th>596</th>\n",
              "      <td>LP002941</td>\n",
              "      <td>6383</td>\n",
              "      <td>1000.0</td>\n",
              "      <td>187.0</td>\n",
              "      <td>360.0</td>\n",
              "      <td>1.0</td>\n",
              "      <td>5.231109</td>\n",
              "      <td>7383.0</td>\n",
              "      <td>8.906935</td>\n",
              "      <td>1</td>\n",
              "      <td>1</td>\n",
              "      <td>0</td>\n",
              "      <td>1</td>\n",
              "      <td>0</td>\n",
              "      <td>1</td>\n",
              "      <td>1</td>\n",
              "      <td>0</td>\n",
              "      <td>0</td>\n",
              "      <td>0</td>\n",
              "    </tr>\n",
              "    <tr>\n",
              "      <th>597</th>\n",
              "      <td>LP002943</td>\n",
              "      <td>2987</td>\n",
              "      <td>0.0</td>\n",
              "      <td>88.0</td>\n",
              "      <td>360.0</td>\n",
              "      <td>0.0</td>\n",
              "      <td>4.477337</td>\n",
              "      <td>2987.0</td>\n",
              "      <td>8.002025</td>\n",
              "      <td>1</td>\n",
              "      <td>0</td>\n",
              "      <td>0</td>\n",
              "      <td>0</td>\n",
              "      <td>0</td>\n",
              "      <td>0</td>\n",
              "      <td>0</td>\n",
              "      <td>1</td>\n",
              "      <td>0</td>\n",
              "      <td>0</td>\n",
              "    </tr>\n",
              "    <tr>\n",
              "      <th>598</th>\n",
              "      <td>LP002945</td>\n",
              "      <td>9963</td>\n",
              "      <td>0.0</td>\n",
              "      <td>180.0</td>\n",
              "      <td>360.0</td>\n",
              "      <td>1.0</td>\n",
              "      <td>5.192957</td>\n",
              "      <td>9963.0</td>\n",
              "      <td>9.206634</td>\n",
              "      <td>1</td>\n",
              "      <td>1</td>\n",
              "      <td>0</td>\n",
              "      <td>0</td>\n",
              "      <td>0</td>\n",
              "      <td>0</td>\n",
              "      <td>1</td>\n",
              "      <td>0</td>\n",
              "      <td>0</td>\n",
              "      <td>1</td>\n",
              "    </tr>\n",
              "    <tr>\n",
              "      <th>599</th>\n",
              "      <td>LP002948</td>\n",
              "      <td>5780</td>\n",
              "      <td>0.0</td>\n",
              "      <td>192.0</td>\n",
              "      <td>360.0</td>\n",
              "      <td>1.0</td>\n",
              "      <td>5.257495</td>\n",
              "      <td>5780.0</td>\n",
              "      <td>8.662159</td>\n",
              "      <td>1</td>\n",
              "      <td>1</td>\n",
              "      <td>0</td>\n",
              "      <td>1</td>\n",
              "      <td>0</td>\n",
              "      <td>0</td>\n",
              "      <td>0</td>\n",
              "      <td>0</td>\n",
              "      <td>1</td>\n",
              "      <td>1</td>\n",
              "    </tr>\n",
              "    <tr>\n",
              "      <th>600</th>\n",
              "      <td>LP002949</td>\n",
              "      <td>416</td>\n",
              "      <td>41667.0</td>\n",
              "      <td>350.0</td>\n",
              "      <td>180.0</td>\n",
              "      <td>1.0</td>\n",
              "      <td>5.857933</td>\n",
              "      <td>42083.0</td>\n",
              "      <td>10.647399</td>\n",
              "      <td>0</td>\n",
              "      <td>0</td>\n",
              "      <td>0</td>\n",
              "      <td>0</td>\n",
              "      <td>1</td>\n",
              "      <td>0</td>\n",
              "      <td>0</td>\n",
              "      <td>0</td>\n",
              "      <td>1</td>\n",
              "      <td>0</td>\n",
              "    </tr>\n",
              "    <tr>\n",
              "      <th>601</th>\n",
              "      <td>LP002950</td>\n",
              "      <td>2894</td>\n",
              "      <td>2792.0</td>\n",
              "      <td>155.0</td>\n",
              "      <td>360.0</td>\n",
              "      <td>1.0</td>\n",
              "      <td>5.043425</td>\n",
              "      <td>5686.0</td>\n",
              "      <td>8.645762</td>\n",
              "      <td>1</td>\n",
              "      <td>1</td>\n",
              "      <td>0</td>\n",
              "      <td>0</td>\n",
              "      <td>0</td>\n",
              "      <td>1</td>\n",
              "      <td>0</td>\n",
              "      <td>0</td>\n",
              "      <td>0</td>\n",
              "      <td>1</td>\n",
              "    </tr>\n",
              "    <tr>\n",
              "      <th>602</th>\n",
              "      <td>LP002953</td>\n",
              "      <td>5703</td>\n",
              "      <td>0.0</td>\n",
              "      <td>128.0</td>\n",
              "      <td>360.0</td>\n",
              "      <td>1.0</td>\n",
              "      <td>4.852030</td>\n",
              "      <td>5703.0</td>\n",
              "      <td>8.648748</td>\n",
              "      <td>1</td>\n",
              "      <td>1</td>\n",
              "      <td>0</td>\n",
              "      <td>0</td>\n",
              "      <td>1</td>\n",
              "      <td>0</td>\n",
              "      <td>0</td>\n",
              "      <td>0</td>\n",
              "      <td>1</td>\n",
              "      <td>1</td>\n",
              "    </tr>\n",
              "    <tr>\n",
              "      <th>603</th>\n",
              "      <td>LP002958</td>\n",
              "      <td>3676</td>\n",
              "      <td>4301.0</td>\n",
              "      <td>172.0</td>\n",
              "      <td>360.0</td>\n",
              "      <td>1.0</td>\n",
              "      <td>5.147494</td>\n",
              "      <td>7977.0</td>\n",
              "      <td>8.984318</td>\n",
              "      <td>1</td>\n",
              "      <td>0</td>\n",
              "      <td>0</td>\n",
              "      <td>0</td>\n",
              "      <td>0</td>\n",
              "      <td>0</td>\n",
              "      <td>0</td>\n",
              "      <td>0</td>\n",
              "      <td>0</td>\n",
              "      <td>1</td>\n",
              "    </tr>\n",
              "    <tr>\n",
              "      <th>604</th>\n",
              "      <td>LP002959</td>\n",
              "      <td>12000</td>\n",
              "      <td>0.0</td>\n",
              "      <td>496.0</td>\n",
              "      <td>360.0</td>\n",
              "      <td>1.0</td>\n",
              "      <td>6.206576</td>\n",
              "      <td>12000.0</td>\n",
              "      <td>9.392662</td>\n",
              "      <td>0</td>\n",
              "      <td>1</td>\n",
              "      <td>1</td>\n",
              "      <td>0</td>\n",
              "      <td>0</td>\n",
              "      <td>0</td>\n",
              "      <td>0</td>\n",
              "      <td>1</td>\n",
              "      <td>0</td>\n",
              "      <td>1</td>\n",
              "    </tr>\n",
              "    <tr>\n",
              "      <th>605</th>\n",
              "      <td>LP002960</td>\n",
              "      <td>2400</td>\n",
              "      <td>3800.0</td>\n",
              "      <td>113.0</td>\n",
              "      <td>180.0</td>\n",
              "      <td>1.0</td>\n",
              "      <td>4.727388</td>\n",
              "      <td>6200.0</td>\n",
              "      <td>8.732305</td>\n",
              "      <td>1</td>\n",
              "      <td>1</td>\n",
              "      <td>0</td>\n",
              "      <td>0</td>\n",
              "      <td>0</td>\n",
              "      <td>1</td>\n",
              "      <td>0</td>\n",
              "      <td>0</td>\n",
              "      <td>1</td>\n",
              "      <td>0</td>\n",
              "    </tr>\n",
              "    <tr>\n",
              "      <th>606</th>\n",
              "      <td>LP002961</td>\n",
              "      <td>3400</td>\n",
              "      <td>2500.0</td>\n",
              "      <td>173.0</td>\n",
              "      <td>360.0</td>\n",
              "      <td>1.0</td>\n",
              "      <td>5.153292</td>\n",
              "      <td>5900.0</td>\n",
              "      <td>8.682708</td>\n",
              "      <td>1</td>\n",
              "      <td>1</td>\n",
              "      <td>1</td>\n",
              "      <td>0</td>\n",
              "      <td>0</td>\n",
              "      <td>0</td>\n",
              "      <td>0</td>\n",
              "      <td>1</td>\n",
              "      <td>0</td>\n",
              "      <td>1</td>\n",
              "    </tr>\n",
              "    <tr>\n",
              "      <th>607</th>\n",
              "      <td>LP002964</td>\n",
              "      <td>3987</td>\n",
              "      <td>1411.0</td>\n",
              "      <td>157.0</td>\n",
              "      <td>360.0</td>\n",
              "      <td>1.0</td>\n",
              "      <td>5.056246</td>\n",
              "      <td>5398.0</td>\n",
              "      <td>8.593784</td>\n",
              "      <td>1</td>\n",
              "      <td>1</td>\n",
              "      <td>0</td>\n",
              "      <td>1</td>\n",
              "      <td>0</td>\n",
              "      <td>1</td>\n",
              "      <td>0</td>\n",
              "      <td>0</td>\n",
              "      <td>0</td>\n",
              "      <td>1</td>\n",
              "    </tr>\n",
              "    <tr>\n",
              "      <th>608</th>\n",
              "      <td>LP002974</td>\n",
              "      <td>3232</td>\n",
              "      <td>1950.0</td>\n",
              "      <td>108.0</td>\n",
              "      <td>360.0</td>\n",
              "      <td>1.0</td>\n",
              "      <td>4.682131</td>\n",
              "      <td>5182.0</td>\n",
              "      <td>8.552946</td>\n",
              "      <td>1</td>\n",
              "      <td>1</td>\n",
              "      <td>0</td>\n",
              "      <td>0</td>\n",
              "      <td>0</td>\n",
              "      <td>0</td>\n",
              "      <td>0</td>\n",
              "      <td>0</td>\n",
              "      <td>0</td>\n",
              "      <td>1</td>\n",
              "    </tr>\n",
              "    <tr>\n",
              "      <th>609</th>\n",
              "      <td>LP002978</td>\n",
              "      <td>2900</td>\n",
              "      <td>0.0</td>\n",
              "      <td>71.0</td>\n",
              "      <td>360.0</td>\n",
              "      <td>1.0</td>\n",
              "      <td>4.262680</td>\n",
              "      <td>2900.0</td>\n",
              "      <td>7.972466</td>\n",
              "      <td>0</td>\n",
              "      <td>0</td>\n",
              "      <td>0</td>\n",
              "      <td>0</td>\n",
              "      <td>0</td>\n",
              "      <td>0</td>\n",
              "      <td>0</td>\n",
              "      <td>0</td>\n",
              "      <td>0</td>\n",
              "      <td>1</td>\n",
              "    </tr>\n",
              "    <tr>\n",
              "      <th>610</th>\n",
              "      <td>LP002979</td>\n",
              "      <td>4106</td>\n",
              "      <td>0.0</td>\n",
              "      <td>40.0</td>\n",
              "      <td>180.0</td>\n",
              "      <td>1.0</td>\n",
              "      <td>3.688879</td>\n",
              "      <td>4106.0</td>\n",
              "      <td>8.320205</td>\n",
              "      <td>1</td>\n",
              "      <td>1</td>\n",
              "      <td>0</td>\n",
              "      <td>0</td>\n",
              "      <td>1</td>\n",
              "      <td>0</td>\n",
              "      <td>0</td>\n",
              "      <td>0</td>\n",
              "      <td>0</td>\n",
              "      <td>1</td>\n",
              "    </tr>\n",
              "    <tr>\n",
              "      <th>611</th>\n",
              "      <td>LP002983</td>\n",
              "      <td>8072</td>\n",
              "      <td>240.0</td>\n",
              "      <td>253.0</td>\n",
              "      <td>360.0</td>\n",
              "      <td>1.0</td>\n",
              "      <td>5.533389</td>\n",
              "      <td>8312.0</td>\n",
              "      <td>9.025456</td>\n",
              "      <td>1</td>\n",
              "      <td>1</td>\n",
              "      <td>1</td>\n",
              "      <td>0</td>\n",
              "      <td>0</td>\n",
              "      <td>0</td>\n",
              "      <td>0</td>\n",
              "      <td>0</td>\n",
              "      <td>1</td>\n",
              "      <td>1</td>\n",
              "    </tr>\n",
              "    <tr>\n",
              "      <th>612</th>\n",
              "      <td>LP002984</td>\n",
              "      <td>7583</td>\n",
              "      <td>0.0</td>\n",
              "      <td>187.0</td>\n",
              "      <td>360.0</td>\n",
              "      <td>1.0</td>\n",
              "      <td>5.231109</td>\n",
              "      <td>7583.0</td>\n",
              "      <td>8.933664</td>\n",
              "      <td>1</td>\n",
              "      <td>1</td>\n",
              "      <td>0</td>\n",
              "      <td>1</td>\n",
              "      <td>0</td>\n",
              "      <td>0</td>\n",
              "      <td>0</td>\n",
              "      <td>0</td>\n",
              "      <td>1</td>\n",
              "      <td>1</td>\n",
              "    </tr>\n",
              "    <tr>\n",
              "      <th>613</th>\n",
              "      <td>LP002990</td>\n",
              "      <td>4583</td>\n",
              "      <td>0.0</td>\n",
              "      <td>133.0</td>\n",
              "      <td>360.0</td>\n",
              "      <td>0.0</td>\n",
              "      <td>4.890349</td>\n",
              "      <td>4583.0</td>\n",
              "      <td>8.430109</td>\n",
              "      <td>0</td>\n",
              "      <td>0</td>\n",
              "      <td>0</td>\n",
              "      <td>0</td>\n",
              "      <td>0</td>\n",
              "      <td>0</td>\n",
              "      <td>1</td>\n",
              "      <td>1</td>\n",
              "      <td>0</td>\n",
              "      <td>0</td>\n",
              "    </tr>\n",
              "  </tbody>\n",
              "</table>\n",
              "<p>614 rows × 19 columns</p>\n",
              "</div>"
            ],
            "text/plain": [
              "      Loan_ID  ApplicantIncome  CoapplicantIncome  LoanAmount  \\\n",
              "0    LP001002             5849                0.0       130.0   \n",
              "1    LP001003             4583             1508.0       128.0   \n",
              "2    LP001005             3000                0.0        66.0   \n",
              "3    LP001006             2583             2358.0       120.0   \n",
              "4    LP001008             6000                0.0       141.0   \n",
              "5    LP001011             5417             4196.0       267.0   \n",
              "6    LP001013             2333             1516.0        95.0   \n",
              "7    LP001014             3036             2504.0       158.0   \n",
              "8    LP001018             4006             1526.0       168.0   \n",
              "9    LP001020            12841            10968.0       349.0   \n",
              "10   LP001024             3200              700.0        70.0   \n",
              "11   LP001027             2500             1840.0       109.0   \n",
              "12   LP001028             3073             8106.0       200.0   \n",
              "13   LP001029             1853             2840.0       114.0   \n",
              "14   LP001030             1299             1086.0        17.0   \n",
              "15   LP001032             4950                0.0       125.0   \n",
              "16   LP001034             3596                0.0       100.0   \n",
              "17   LP001036             3510                0.0        76.0   \n",
              "18   LP001038             4887                0.0       133.0   \n",
              "19   LP001041             2600             3500.0       115.0   \n",
              "20   LP001043             7660                0.0       104.0   \n",
              "21   LP001046             5955             5625.0       315.0   \n",
              "22   LP001047             2600             1911.0       116.0   \n",
              "23   LP001050             3365             1917.0       112.0   \n",
              "24   LP001052             3717             2925.0       151.0   \n",
              "25   LP001066             9560                0.0       191.0   \n",
              "26   LP001068             2799             2253.0       122.0   \n",
              "27   LP001073             4226             1040.0       110.0   \n",
              "28   LP001086             1442                0.0        35.0   \n",
              "29   LP001087             3750             2083.0       120.0   \n",
              "..        ...              ...                ...         ...   \n",
              "584  LP002911             2787             1917.0       146.0   \n",
              "585  LP002912             4283             3000.0       172.0   \n",
              "586  LP002916             2297             1522.0       104.0   \n",
              "587  LP002917             2165                0.0        70.0   \n",
              "588  LP002925             4750                0.0        94.0   \n",
              "589  LP002926             2726                0.0       106.0   \n",
              "590  LP002928             3000             3416.0        56.0   \n",
              "591  LP002931             6000                0.0       205.0   \n",
              "592  LP002933             9357                0.0       292.0   \n",
              "593  LP002936             3859             3300.0       142.0   \n",
              "594  LP002938            16120                0.0       260.0   \n",
              "595  LP002940             3833                0.0       110.0   \n",
              "596  LP002941             6383             1000.0       187.0   \n",
              "597  LP002943             2987                0.0        88.0   \n",
              "598  LP002945             9963                0.0       180.0   \n",
              "599  LP002948             5780                0.0       192.0   \n",
              "600  LP002949              416            41667.0       350.0   \n",
              "601  LP002950             2894             2792.0       155.0   \n",
              "602  LP002953             5703                0.0       128.0   \n",
              "603  LP002958             3676             4301.0       172.0   \n",
              "604  LP002959            12000                0.0       496.0   \n",
              "605  LP002960             2400             3800.0       113.0   \n",
              "606  LP002961             3400             2500.0       173.0   \n",
              "607  LP002964             3987             1411.0       157.0   \n",
              "608  LP002974             3232             1950.0       108.0   \n",
              "609  LP002978             2900                0.0        71.0   \n",
              "610  LP002979             4106                0.0        40.0   \n",
              "611  LP002983             8072              240.0       253.0   \n",
              "612  LP002984             7583                0.0       187.0   \n",
              "613  LP002990             4583                0.0       133.0   \n",
              "\n",
              "     Loan_Amount_Term  Credit_History  LoanAmount_log  TotalIncome  \\\n",
              "0               360.0             1.0        4.867534       5849.0   \n",
              "1               360.0             1.0        4.852030       6091.0   \n",
              "2               360.0             1.0        4.189655       3000.0   \n",
              "3               360.0             1.0        4.787492       4941.0   \n",
              "4               360.0             1.0        4.948760       6000.0   \n",
              "5               360.0             1.0        5.587249       9613.0   \n",
              "6               360.0             1.0        4.553877       3849.0   \n",
              "7               360.0             0.0        5.062595       5540.0   \n",
              "8               360.0             1.0        5.123964       5532.0   \n",
              "9               360.0             1.0        5.855072      23809.0   \n",
              "10              360.0             1.0        4.248495       3900.0   \n",
              "11              360.0             1.0        4.691348       4340.0   \n",
              "12              360.0             1.0        5.298317      11179.0   \n",
              "13              360.0             1.0        4.736198       4693.0   \n",
              "14              120.0             1.0        2.833213       2385.0   \n",
              "15              360.0             1.0        4.828314       4950.0   \n",
              "16              240.0             1.0        4.605170       3596.0   \n",
              "17              360.0             0.0        4.330733       3510.0   \n",
              "18              360.0             1.0        4.890349       4887.0   \n",
              "19              360.0             1.0        4.744932       6100.0   \n",
              "20              360.0             0.0        4.644391       7660.0   \n",
              "21              360.0             1.0        5.752573      11580.0   \n",
              "22              360.0             0.0        4.753590       4511.0   \n",
              "23              360.0             0.0        4.718499       5282.0   \n",
              "24              360.0             1.0        5.017280       6642.0   \n",
              "25              360.0             1.0        5.252273       9560.0   \n",
              "26              360.0             1.0        4.804021       5052.0   \n",
              "27              360.0             1.0        4.700480       5266.0   \n",
              "28              360.0             1.0        3.555348       1442.0   \n",
              "29              360.0             1.0        4.787492       5833.0   \n",
              "..                ...             ...             ...          ...   \n",
              "584             360.0             0.0        4.983607       4704.0   \n",
              "585              84.0             1.0        5.147494       7283.0   \n",
              "586             360.0             1.0        4.644391       3819.0   \n",
              "587             360.0             1.0        4.248495       2165.0   \n",
              "588             360.0             1.0        4.543295       4750.0   \n",
              "589             360.0             0.0        4.663439       2726.0   \n",
              "590             180.0             1.0        4.025352       6416.0   \n",
              "591             240.0             1.0        5.323010       6000.0   \n",
              "592             360.0             1.0        5.676754       9357.0   \n",
              "593             180.0             1.0        4.955827       7159.0   \n",
              "594             360.0             1.0        5.560682      16120.0   \n",
              "595             360.0             1.0        4.700480       3833.0   \n",
              "596             360.0             1.0        5.231109       7383.0   \n",
              "597             360.0             0.0        4.477337       2987.0   \n",
              "598             360.0             1.0        5.192957       9963.0   \n",
              "599             360.0             1.0        5.257495       5780.0   \n",
              "600             180.0             1.0        5.857933      42083.0   \n",
              "601             360.0             1.0        5.043425       5686.0   \n",
              "602             360.0             1.0        4.852030       5703.0   \n",
              "603             360.0             1.0        5.147494       7977.0   \n",
              "604             360.0             1.0        6.206576      12000.0   \n",
              "605             180.0             1.0        4.727388       6200.0   \n",
              "606             360.0             1.0        5.153292       5900.0   \n",
              "607             360.0             1.0        5.056246       5398.0   \n",
              "608             360.0             1.0        4.682131       5182.0   \n",
              "609             360.0             1.0        4.262680       2900.0   \n",
              "610             180.0             1.0        3.688879       4106.0   \n",
              "611             360.0             1.0        5.533389       8312.0   \n",
              "612             360.0             1.0        5.231109       7583.0   \n",
              "613             360.0             0.0        4.890349       4583.0   \n",
              "\n",
              "     TotalIncome_log  Gender_Male  Married_Yes  Dependents_1  Dependents_2  \\\n",
              "0           8.674026            1            0             0             0   \n",
              "1           8.714568            1            1             1             0   \n",
              "2           8.006368            1            1             0             0   \n",
              "3           8.505323            1            1             0             0   \n",
              "4           8.699515            1            0             0             0   \n",
              "5           9.170872            1            1             0             1   \n",
              "6           8.255569            1            1             0             0   \n",
              "7           8.619750            1            1             0             0   \n",
              "8           8.618305            1            1             0             1   \n",
              "9          10.077819            1            1             1             0   \n",
              "10          8.268732            1            1             0             1   \n",
              "11          8.375630            1            1             0             1   \n",
              "12          9.321792            1            1             0             1   \n",
              "13          8.453827            1            0             0             0   \n",
              "14          7.776954            1            1             0             1   \n",
              "15          8.507143            1            0             0             0   \n",
              "16          8.187577            1            0             1             0   \n",
              "17          8.163371            0            0             0             0   \n",
              "18          8.494334            1            1             0             0   \n",
              "19          8.716044            1            1             0             0   \n",
              "20          8.943767            1            1             0             0   \n",
              "21          9.357035            1            1             1             0   \n",
              "22          8.414274            1            1             0             0   \n",
              "23          8.572060            1            1             0             1   \n",
              "24          8.801168            1            1             1             0   \n",
              "25          9.165343            1            1             0             0   \n",
              "26          8.527539            1            1             0             0   \n",
              "27          8.569026            1            1             0             1   \n",
              "28          7.273786            1            0             0             0   \n",
              "29          8.671287            0            0             0             1   \n",
              "..               ...          ...          ...           ...           ...   \n",
              "584         8.456168            1            1             1             0   \n",
              "585         8.893298            1            1             1             0   \n",
              "586         8.247744            1            1             0             0   \n",
              "587         7.680176            0            0             0             0   \n",
              "588         8.465900            1            0             0             0   \n",
              "589         7.910591            1            1             0             1   \n",
              "590         8.766550            1            1             0             0   \n",
              "591         8.699515            1            1             0             1   \n",
              "592         9.143880            1            0             0             0   \n",
              "593         8.876126            1            1             0             0   \n",
              "594         9.687816            1            1             0             0   \n",
              "595         8.251403            1            0             0             0   \n",
              "596         8.906935            1            1             0             1   \n",
              "597         8.002025            1            0             0             0   \n",
              "598         9.206634            1            1             0             0   \n",
              "599         8.662159            1            1             0             1   \n",
              "600        10.647399            0            0             0             0   \n",
              "601         8.645762            1            1             0             0   \n",
              "602         8.648748            1            1             0             0   \n",
              "603         8.984318            1            0             0             0   \n",
              "604         9.392662            0            1             1             0   \n",
              "605         8.732305            1            1             0             0   \n",
              "606         8.682708            1            1             1             0   \n",
              "607         8.593784            1            1             0             1   \n",
              "608         8.552946            1            1             0             0   \n",
              "609         7.972466            0            0             0             0   \n",
              "610         8.320205            1            1             0             0   \n",
              "611         9.025456            1            1             1             0   \n",
              "612         8.933664            1            1             0             1   \n",
              "613         8.430109            0            0             0             0   \n",
              "\n",
              "     Dependents_3+  Education_Not Graduate  Self_Employed_Yes  \\\n",
              "0                0                       0                  0   \n",
              "1                0                       0                  0   \n",
              "2                0                       0                  1   \n",
              "3                0                       1                  0   \n",
              "4                0                       0                  0   \n",
              "5                0                       0                  1   \n",
              "6                0                       1                  0   \n",
              "7                1                       0                  0   \n",
              "8                0                       0                  0   \n",
              "9                0                       0                  0   \n",
              "10               0                       0                  0   \n",
              "11               0                       0                  0   \n",
              "12               0                       0                  0   \n",
              "13               0                       0                  0   \n",
              "14               0                       0                  0   \n",
              "15               0                       0                  0   \n",
              "16               0                       1                  0   \n",
              "17               0                       0                  0   \n",
              "18               0                       1                  0   \n",
              "19               0                       0                  0   \n",
              "20               0                       1                  0   \n",
              "21               0                       0                  0   \n",
              "22               0                       1                  0   \n",
              "23               0                       1                  0   \n",
              "24               0                       0                  0   \n",
              "25               0                       0                  1   \n",
              "26               0                       0                  0   \n",
              "27               0                       1                  0   \n",
              "28               0                       1                  0   \n",
              "29               0                       0                  0   \n",
              "..             ...                     ...                ...   \n",
              "584              0                       0                  0   \n",
              "585              0                       0                  0   \n",
              "586              0                       0                  0   \n",
              "587              0                       1                  0   \n",
              "588              0                       0                  0   \n",
              "589              0                       0                  1   \n",
              "590              0                       0                  0   \n",
              "591              0                       0                  1   \n",
              "592              1                       0                  1   \n",
              "593              0                       0                  0   \n",
              "594              0                       0                  1   \n",
              "595              0                       1                  0   \n",
              "596              0                       1                  1   \n",
              "597              0                       0                  0   \n",
              "598              0                       0                  1   \n",
              "599              0                       0                  0   \n",
              "600              1                       0                  0   \n",
              "601              0                       1                  0   \n",
              "602              1                       0                  0   \n",
              "603              0                       0                  0   \n",
              "604              0                       0                  0   \n",
              "605              0                       1                  0   \n",
              "606              0                       0                  0   \n",
              "607              0                       1                  0   \n",
              "608              0                       0                  0   \n",
              "609              0                       0                  0   \n",
              "610              1                       0                  0   \n",
              "611              0                       0                  0   \n",
              "612              0                       0                  0   \n",
              "613              0                       0                  1   \n",
              "\n",
              "     Property_Area_Semiurban  Property_Area_Urban  Loan_Status_Y  \n",
              "0                          0                    1              1  \n",
              "1                          0                    0              0  \n",
              "2                          0                    1              1  \n",
              "3                          0                    1              1  \n",
              "4                          0                    1              1  \n",
              "5                          0                    1              1  \n",
              "6                          0                    1              1  \n",
              "7                          1                    0              0  \n",
              "8                          0                    1              1  \n",
              "9                          1                    0              0  \n",
              "10                         0                    1              1  \n",
              "11                         0                    1              1  \n",
              "12                         0                    1              1  \n",
              "13                         0                    0              0  \n",
              "14                         0                    1              1  \n",
              "15                         0                    1              1  \n",
              "16                         0                    1              1  \n",
              "17                         0                    1              0  \n",
              "18                         0                    0              0  \n",
              "19                         0                    1              1  \n",
              "20                         0                    1              0  \n",
              "21                         0                    1              1  \n",
              "22                         1                    0              0  \n",
              "23                         0                    0              0  \n",
              "24                         1                    0              0  \n",
              "25                         1                    0              1  \n",
              "26                         1                    0              1  \n",
              "27                         0                    1              1  \n",
              "28                         0                    1              0  \n",
              "29                         1                    0              1  \n",
              "..                       ...                  ...            ...  \n",
              "584                        0                    0              0  \n",
              "585                        0                    0              0  \n",
              "586                        0                    1              1  \n",
              "587                        1                    0              1  \n",
              "588                        1                    0              1  \n",
              "589                        1                    0              0  \n",
              "590                        1                    0              1  \n",
              "591                        1                    0              0  \n",
              "592                        1                    0              1  \n",
              "593                        0                    0              1  \n",
              "594                        0                    1              1  \n",
              "595                        0                    0              1  \n",
              "596                        0                    0              0  \n",
              "597                        1                    0              0  \n",
              "598                        0                    0              1  \n",
              "599                        0                    1              1  \n",
              "600                        0                    1              0  \n",
              "601                        0                    0              1  \n",
              "602                        0                    1              1  \n",
              "603                        0                    0              1  \n",
              "604                        1                    0              1  \n",
              "605                        0                    1              0  \n",
              "606                        1                    0              1  \n",
              "607                        0                    0              1  \n",
              "608                        0                    0              1  \n",
              "609                        0                    0              1  \n",
              "610                        0                    0              1  \n",
              "611                        0                    1              1  \n",
              "612                        0                    1              1  \n",
              "613                        1                    0              0  \n",
              "\n",
              "[614 rows x 19 columns]"
            ]
          },
          "metadata": {
            "tags": []
          },
          "execution_count": 68
        }
      ]
    },
    {
      "cell_type": "code",
      "metadata": {
        "id": "3R_mDAqX78Wr",
        "colab_type": "code",
        "colab": {},
        "outputId": "9940df93-a2d6-41ec-e1e2-9c05142c763e"
      },
      "source": [
        "df.columns"
      ],
      "execution_count": 0,
      "outputs": [
        {
          "output_type": "execute_result",
          "data": {
            "text/plain": [
              "Index(['Loan_ID', 'ApplicantIncome', 'CoapplicantIncome', 'LoanAmount',\n",
              "       'Loan_Amount_Term', 'Credit_History', 'LoanAmount_log', 'TotalIncome',\n",
              "       'TotalIncome_log', 'Gender_Male', 'Married_Yes', 'Dependents_1',\n",
              "       'Dependents_2', 'Dependents_3+', 'Education_Not Graduate',\n",
              "       'Self_Employed_Yes', 'Property_Area_Semiurban', 'Property_Area_Urban',\n",
              "       'Loan_Status_Y'],\n",
              "      dtype='object')"
            ]
          },
          "metadata": {
            "tags": []
          },
          "execution_count": 69
        }
      ]
    },
    {
      "cell_type": "code",
      "metadata": {
        "id": "di2kG_U478Ww",
        "colab_type": "code",
        "colab": {},
        "outputId": "77262863-af5c-4662-cdbf-c4f6f78ee043"
      },
      "source": [
        "df.columns"
      ],
      "execution_count": 0,
      "outputs": [
        {
          "output_type": "execute_result",
          "data": {
            "text/plain": [
              "Index(['Loan_ID', 'ApplicantIncome', 'CoapplicantIncome', 'LoanAmount',\n",
              "       'Loan_Amount_Term', 'Credit_History', 'LoanAmount_log', 'TotalIncome',\n",
              "       'TotalIncome_log', 'Gender_Male', 'Married_Yes', 'Dependents_1',\n",
              "       'Dependents_2', 'Dependents_3+', 'Education_Not Graduate',\n",
              "       'Self_Employed_Yes', 'Property_Area_Semiurban', 'Property_Area_Urban',\n",
              "       'Loan_Status_Y'],\n",
              "      dtype='object')"
            ]
          },
          "metadata": {
            "tags": []
          },
          "execution_count": 70
        }
      ]
    },
    {
      "cell_type": "code",
      "metadata": {
        "id": "d0FLTg8a78W1",
        "colab_type": "code",
        "colab": {}
      },
      "source": [
        "df=df[['Loan_ID','Loan_Amount_Term', 'Credit_History', 'LoanAmount_log',\n",
        "       'TotalIncome_log', 'Gender_Male', 'Married_Yes', 'Dependents_1','Dependents_2', 'Dependents_3+',\n",
        "        'Education_Not Graduate','Self_Employed_Yes', 'Property_Area_Semiurban', 'Property_Area_Urban',  'Loan_Status_Y']]"
      ],
      "execution_count": 0,
      "outputs": []
    },
    {
      "cell_type": "code",
      "metadata": {
        "id": "hc0zPl_G78W3",
        "colab_type": "code",
        "colab": {},
        "outputId": "e6044d32-950c-4e09-c409-044ec921ebfd"
      },
      "source": [
        "#correlation matrix\n",
        "corrmat = df.corr()\n",
        "f, ax = plt.subplots(figsize=(12, 9))\n",
        "sns.heatmap(corrmat, vmax=.8, square=True,edgecolor='black');"
      ],
      "execution_count": 0,
      "outputs": [
        {
          "output_type": "display_data",
          "data": {
            "image/png": "[encoded data removed]",
            "text/plain": [
              "<matplotlib.figure.Figure at 0x1ed10a01630>"
            ]
          },
          "metadata": {
            "tags": []
          }
        }
      ]
    },
    {
      "cell_type": "code",
      "metadata": {
        "id": "T5AAytO878W5",
        "colab_type": "code",
        "colab": {}
      },
      "source": [
        "y = df['Loan_Status_Y'].values\n",
        "X = df.drop(['Loan_ID','Loan_Status_Y','LoanAmount_log'],axis=1).values"
      ],
      "execution_count": 0,
      "outputs": []
    },
    {
      "cell_type": "code",
      "metadata": {
        "id": "RvjiX6fe78W8",
        "colab_type": "code",
        "colab": {},
        "outputId": "512be1af-7584-4675-f758-9e4e0e09a1d4"
      },
      "source": [
        "X"
      ],
      "execution_count": 0,
      "outputs": [
        {
          "output_type": "execute_result",
          "data": {
            "text/plain": [
              "array([[360.        ,   1.        ,   8.67402599, ...,   0.        ,\n",
              "          0.        ,   1.        ],\n",
              "       [360.        ,   1.        ,   8.71456755, ...,   0.        ,\n",
              "          0.        ,   0.        ],\n",
              "       [360.        ,   1.        ,   8.00636757, ...,   1.        ,\n",
              "          0.        ,   1.        ],\n",
              "       ...,\n",
              "       [360.        ,   1.        ,   9.02545553, ...,   0.        ,\n",
              "          0.        ,   1.        ],\n",
              "       [360.        ,   1.        ,   8.93366418, ...,   0.        ,\n",
              "          0.        ,   1.        ],\n",
              "       [360.        ,   0.        ,   8.43010908, ...,   1.        ,\n",
              "          1.        ,   0.        ]])"
            ]
          },
          "metadata": {
            "tags": []
          },
          "execution_count": 74
        }
      ]
    },
    {
      "cell_type": "code",
      "metadata": {
        "id": "JwYFbO2f78XA",
        "colab_type": "code",
        "colab": {},
        "outputId": "8eea4e99-4899-481e-d302-a6fb75615bd1"
      },
      "source": [
        "y"
      ],
      "execution_count": 0,
      "outputs": [
        {
          "output_type": "execute_result",
          "data": {
            "text/plain": [
              "array([1, 0, 1, 1, 1, 1, 1, 0, 1, 0, 1, 1, 1, 0, 1, 1, 1, 0, 0, 1, 0, 1,\n",
              "       0, 0, 0, 1, 1, 1, 0, 1, 0, 0, 0, 1, 0, 1, 0, 1, 1, 1, 0, 1, 1, 1,\n",
              "       1, 1, 1, 1, 0, 1, 1, 1, 0, 0, 0, 1, 1, 0, 1, 1, 1, 1, 0, 0, 0, 0,\n",
              "       0, 1, 1, 0, 1, 1, 1, 0, 1, 0, 0, 0, 0, 1, 1, 1, 0, 0, 1, 1, 1, 1,\n",
              "       1, 1, 1, 1, 1, 1, 1, 0, 1, 1, 1, 1, 1, 1, 1, 1, 1, 1, 1, 0, 0, 1,\n",
              "       1, 1, 0, 1, 1, 1, 1, 1, 0, 1, 1, 1, 1, 1, 1, 1, 1, 1, 0, 0, 1, 1,\n",
              "       1, 1, 1, 0, 0, 1, 0, 0, 0, 1, 1, 1, 1, 1, 1, 1, 0, 1, 0, 1, 0, 0,\n",
              "       1, 1, 1, 1, 1, 1, 1, 0, 0, 1, 1, 1, 0, 1, 0, 1, 1, 1, 0, 1, 0, 1,\n",
              "       1, 0, 1, 0, 0, 0, 1, 0, 1, 1, 0, 1, 1, 1, 1, 0, 0, 1, 1, 0, 1, 1,\n",
              "       1, 0, 1, 1, 0, 1, 1, 1, 1, 1, 1, 0, 0, 0, 1, 1, 1, 1, 0, 1, 0, 1,\n",
              "       0, 1, 1, 1, 1, 0, 0, 1, 1, 1, 1, 1, 1, 1, 1, 1, 0, 1, 1, 1, 1, 0,\n",
              "       1, 1, 1, 0, 1, 1, 1, 1, 0, 0, 1, 1, 0, 1, 0, 0, 0, 0, 1, 1, 0, 1,\n",
              "       1, 1, 1, 1, 0, 1, 1, 1, 1, 1, 1, 1, 1, 1, 1, 1, 0, 1, 1, 1, 0, 1,\n",
              "       0, 1, 1, 1, 1, 0, 1, 0, 1, 1, 1, 1, 0, 0, 0, 1, 1, 1, 1, 0, 1, 0,\n",
              "       0, 1, 1, 1, 1, 1, 0, 1, 1, 1, 1, 0, 1, 1, 1, 1, 1, 0, 1, 1, 0, 1,\n",
              "       1, 1, 1, 1, 1, 1, 1, 1, 0, 1, 0, 0, 1, 1, 1, 1, 0, 1, 1, 1, 1, 0,\n",
              "       1, 0, 1, 1, 1, 0, 0, 1, 0, 1, 1, 1, 1, 0, 0, 0, 1, 0, 1, 1, 1, 0,\n",
              "       1, 1, 1, 1, 0, 1, 1, 1, 1, 1, 0, 1, 1, 0, 1, 1, 1, 1, 1, 1, 1, 1,\n",
              "       0, 1, 1, 0, 0, 0, 1, 1, 0, 1, 1, 1, 0, 0, 0, 1, 0, 1, 0, 1, 0, 0,\n",
              "       1, 1, 1, 0, 1, 0, 1, 1, 0, 1, 1, 1, 1, 0, 1, 1, 1, 1, 1, 1, 0, 1,\n",
              "       1, 1, 1, 1, 1, 1, 1, 0, 0, 0, 0, 1, 0, 1, 1, 1, 1, 0, 1, 0, 1, 1,\n",
              "       1, 1, 0, 1, 0, 1, 1, 0, 1, 0, 1, 1, 1, 1, 1, 0, 1, 0, 1, 1, 1, 1,\n",
              "       1, 1, 0, 0, 1, 0, 1, 1, 1, 1, 0, 1, 1, 1, 1, 0, 1, 1, 1, 0, 1, 1,\n",
              "       1, 0, 1, 1, 0, 1, 1, 0, 0, 1, 1, 0, 0, 0, 1, 1, 1, 1, 0, 1, 1, 1,\n",
              "       1, 1, 1, 1, 0, 0, 1, 1, 1, 1, 0, 1, 1, 0, 1, 1, 1, 1, 0, 1, 0, 1,\n",
              "       0, 1, 1, 0, 0, 1, 1, 1, 1, 1, 1, 1, 1, 1, 0, 1, 1, 0, 0, 0, 1, 0,\n",
              "       1, 0, 0, 1, 0, 1, 1, 1, 1, 0, 1, 0, 0, 0, 1, 1, 1, 0, 1, 0, 1, 1,\n",
              "       1, 1, 0, 0, 1, 1, 0, 1, 1, 1, 1, 0, 1, 1, 1, 1, 1, 1, 1, 0],\n",
              "      dtype=uint8)"
            ]
          },
          "metadata": {
            "tags": []
          },
          "execution_count": 75
        }
      ]
    },
    {
      "cell_type": "code",
      "metadata": {
        "id": "2lpxRM-278XD",
        "colab_type": "code",
        "colab": {}
      },
      "source": [
        "#  predictive  models"
      ],
      "execution_count": 0,
      "outputs": []
    },
    {
      "cell_type": "code",
      "metadata": {
        "id": "U_E-CPMP78XF",
        "colab_type": "code",
        "colab": {}
      },
      "source": [
        "from sklearn.preprocessing import StandardScaler\n",
        "sc = StandardScaler()\n",
        "X = sc.fit_transform(X)"
      ],
      "execution_count": 0,
      "outputs": []
    },
    {
      "cell_type": "code",
      "metadata": {
        "id": "ah-9-Rl678XH",
        "colab_type": "code",
        "colab": {},
        "outputId": "8ca7a36f-299a-4083-b913-d3d3ab85e56e"
      },
      "source": [
        "X[0]"
      ],
      "execution_count": 0,
      "outputs": [
        {
          "output_type": "execute_result",
          "data": {
            "text/plain": [
              "array([ 0.2732313 ,  0.41173269,  0.00846848,  0.47234264, -1.37208932,\n",
              "       -0.44633928, -0.44371285, -0.30097532, -0.52836225, -0.39260074,\n",
              "       -0.7820157 ,  1.42814704])"
            ]
          },
          "metadata": {
            "tags": []
          },
          "execution_count": 78
        }
      ]
    },
    {
      "cell_type": "code",
      "metadata": {
        "id": "bMgxPr4w78XN",
        "colab_type": "code",
        "colab": {}
      },
      "source": [
        "# Compare Algorithms"
      ],
      "execution_count": 0,
      "outputs": []
    },
    {
      "cell_type": "code",
      "metadata": {
        "id": "KhSrpsqk78XP",
        "colab_type": "code",
        "colab": {}
      },
      "source": [
        "from sklearn import model_selection\n",
        "from sklearn.linear_model import LogisticRegression\n",
        "from sklearn.tree import DecisionTreeClassifier\n",
        "from sklearn.neighbors import KNeighborsClassifier\n",
        "from sklearn.discriminant_analysis import LinearDiscriminantAnalysis\n",
        "from sklearn.naive_bayes import GaussianNB\n",
        "from sklearn.svm import SVC\n",
        "from sklearn.ensemble import RandomForestClassifier"
      ],
      "execution_count": 0,
      "outputs": []
    },
    {
      "cell_type": "code",
      "metadata": {
        "id": "iLmUqcMw78Xa",
        "colab_type": "code",
        "colab": {}
      },
      "source": [
        "# prepare configuration for cross validation test harness\n",
        "seed = 7\n",
        "# prepare models\n",
        "models = []\n",
        "models.append(('LR', LogisticRegression()))\n",
        "models.append(('RF', RandomForestClassifier()))\n",
        "models.append(('LDA', LinearDiscriminantAnalysis()))\n",
        "models.append(('KNN', KNeighborsClassifier()))\n",
        "models.append(('CART', DecisionTreeClassifier()))\n",
        "models.append(('NB', GaussianNB()))\n",
        "models.append(('SVM', SVC()))\n"
      ],
      "execution_count": 0,
      "outputs": []
    },
    {
      "cell_type": "code",
      "metadata": {
        "id": "VdAd4YK378Xd",
        "colab_type": "code",
        "colab": {},
        "outputId": "3cce9e11-baf9-4bb2-aa4f-5b22dd488b42"
      },
      "source": [
        "# evaluate each model in turn\n",
        "results = []\n",
        "names = []\n",
        "scoring = 'accuracy'\n",
        "for name, model in models:\n",
        "\tkfold = model_selection.KFold(n_splits=200, random_state=seed)\n",
        "\tcv_results = model_selection.cross_val_score(model, X, y, cv=kfold, scoring=scoring)\n",
        "\tresults.append(cv_results)\n",
        "\tnames.append(name)\n",
        "\tmsg = \"%s: %f (%f)\" % (name, cv_results.mean(), cv_results.std())\n",
        "\tprint(msg)\n"
      ],
      "execution_count": 0,
      "outputs": [
        {
          "output_type": "stream",
          "text": [
            "LR: 0.810417 (0.223907)\n",
            "RF: 0.737500 (0.231503)\n",
            "LDA: 0.810417 (0.223907)\n",
            "KNN: 0.772917 (0.234955)\n",
            "CART: 0.690000 (0.256331)\n",
            "NB: 0.805417 (0.225813)\n",
            "SVM: 0.805417 (0.223339)\n"
          ],
          "name": "stdout"
        }
      ]
    },
    {
      "cell_type": "code",
      "metadata": {
        "id": "U_8h8iRe78Xg",
        "colab_type": "code",
        "colab": {},
        "outputId": "c92619ef-7d4b-40c5-b581-080025e96d41"
      },
      "source": [
        "# boxplot algorithm comparison\n",
        "fig = plt.figure()\n",
        "fig.suptitle('Algorithm Comparison')\n",
        "ax = fig.add_subplot(111)\n",
        "plt.boxplot(results)\n",
        "ax.set_xticklabels(names)\n",
        "plt.show()"
      ],
      "execution_count": 0,
      "outputs": [
        {
          "output_type": "display_data",
          "data": {
            "image/png": "[encoded data removed]",
            "text/plain": [
              "<matplotlib.figure.Figure at 0x1ed120760f0>"
            ]
          },
          "metadata": {
            "tags": []
          }
        }
      ]
    },
    {
      "cell_type": "code",
      "metadata": {
        "id": "odCb9I1V78Xj",
        "colab_type": "code",
        "colab": {}
      },
      "source": [
        "#                              predicting y for test data set"
      ],
      "execution_count": 0,
      "outputs": []
    },
    {
      "cell_type": "code",
      "metadata": {
        "id": "gb2DM0a578Xl",
        "colab_type": "code",
        "colab": {},
        "outputId": "0bd74ce9-e6a5-4454-bce0-6fab0244a534"
      },
      "source": [
        "os.chdir(r\"C:\\Users\\reza\\Desktop\\python project\\loan_eligibility\\Loan-prediction-using-Machine-Learning-and-Python-master\\Loan-prediction-using-Machine-Learning-and-Python-master\\data\")\n",
        "os.getcwd()"
      ],
      "execution_count": 0,
      "outputs": [
        {
          "output_type": "execute_result",
          "data": {
            "text/plain": [
              "'C:\\\\Users\\\\reza\\\\Desktop\\\\python project\\\\loan_eligibility\\\\Loan-prediction-using-Machine-Learning-and-Python-master\\\\Loan-prediction-using-Machine-Learning-and-Python-master\\\\data'"
            ]
          },
          "metadata": {
            "tags": []
          },
          "execution_count": 85
        }
      ]
    },
    {
      "cell_type": "code",
      "metadata": {
        "id": "IzBhoMzA78Xn",
        "colab_type": "code",
        "colab": {}
      },
      "source": [
        "df_test = pd.read_csv(\"test_loan_home.csv\") "
      ],
      "execution_count": 0,
      "outputs": []
    },
    {
      "cell_type": "code",
      "metadata": {
        "id": "s60nUjxh78Xp",
        "colab_type": "code",
        "colab": {}
      },
      "source": [
        "#                                 check for missing value "
      ],
      "execution_count": 0,
      "outputs": []
    },
    {
      "cell_type": "code",
      "metadata": {
        "id": "occQV4Om78Xs",
        "colab_type": "code",
        "colab": {},
        "outputId": "86e7479f-3bfa-43d4-901a-00843275d7d5"
      },
      "source": [
        "missing_values_table(df_test)      "
      ],
      "execution_count": 0,
      "outputs": [
        {
          "output_type": "stream",
          "text": [
            "Your selected dataframe has 12 columns.\n",
            "There are 6 columns that have missing values.\n"
          ],
          "name": "stdout"
        },
        {
          "output_type": "execute_result",
          "data": {
            "text/html": [
              "<div>\n",
              "<style scoped>\n",
              "    .dataframe tbody tr th:only-of-type {\n",
              "        vertical-align: middle;\n",
              "    }\n",
              "\n",
              "    .dataframe tbody tr th {\n",
              "        vertical-align: top;\n",
              "    }\n",
              "\n",
              "    .dataframe thead th {\n",
              "        text-align: right;\n",
              "    }\n",
              "</style>\n",
              "<table border=\"1\" class=\"dataframe\">\n",
              "  <thead>\n",
              "    <tr style=\"text-align: right;\">\n",
              "      <th></th>\n",
              "      <th>Missing Values</th>\n",
              "      <th>% of Total Values</th>\n",
              "    </tr>\n",
              "  </thead>\n",
              "  <tbody>\n",
              "    <tr>\n",
              "      <th>Credit_History</th>\n",
              "      <td>29</td>\n",
              "      <td>7.9</td>\n",
              "    </tr>\n",
              "    <tr>\n",
              "      <th>Self_Employed</th>\n",
              "      <td>23</td>\n",
              "      <td>6.3</td>\n",
              "    </tr>\n",
              "    <tr>\n",
              "      <th>Gender</th>\n",
              "      <td>11</td>\n",
              "      <td>3.0</td>\n",
              "    </tr>\n",
              "    <tr>\n",
              "      <th>Dependents</th>\n",
              "      <td>10</td>\n",
              "      <td>2.7</td>\n",
              "    </tr>\n",
              "    <tr>\n",
              "      <th>Loan_Amount_Term</th>\n",
              "      <td>6</td>\n",
              "      <td>1.6</td>\n",
              "    </tr>\n",
              "    <tr>\n",
              "      <th>LoanAmount</th>\n",
              "      <td>5</td>\n",
              "      <td>1.4</td>\n",
              "    </tr>\n",
              "  </tbody>\n",
              "</table>\n",
              "</div>"
            ],
            "text/plain": [
              "                  Missing Values  % of Total Values\n",
              "Credit_History                29                7.9\n",
              "Self_Employed                 23                6.3\n",
              "Gender                        11                3.0\n",
              "Dependents                    10                2.7\n",
              "Loan_Amount_Term               6                1.6\n",
              "LoanAmount                     5                1.4"
            ]
          },
          "metadata": {
            "tags": []
          },
          "execution_count": 88
        }
      ]
    },
    {
      "cell_type": "code",
      "metadata": {
        "id": "b1JH5gmC78Xv",
        "colab_type": "code",
        "colab": {}
      },
      "source": [
        "#Exploratory data analysis for Categorical variables"
      ],
      "execution_count": 0,
      "outputs": []
    },
    {
      "cell_type": "code",
      "metadata": {
        "id": "nDcRohkC78X0",
        "colab_type": "code",
        "colab": {},
        "outputId": "4c595882-0f61-4e6c-baa0-eedd0b4170fe"
      },
      "source": [
        "df_test['Credit_History'].value_counts() # Mostly Male"
      ],
      "execution_count": 0,
      "outputs": [
        {
          "output_type": "execute_result",
          "data": {
            "text/plain": [
              "1.0    279\n",
              "0.0     59\n",
              "Name: Credit_History, dtype: int64"
            ]
          },
          "metadata": {
            "tags": []
          },
          "execution_count": 90
        }
      ]
    },
    {
      "cell_type": "code",
      "metadata": {
        "id": "JQd8anln78X2",
        "colab_type": "code",
        "colab": {}
      },
      "source": [
        "df_test['Credit_History'].fillna(1,inplace=True) #impute missing value with 1(median)"
      ],
      "execution_count": 0,
      "outputs": []
    },
    {
      "cell_type": "code",
      "metadata": {
        "id": "N0XJqjKv78X4",
        "colab_type": "code",
        "colab": {},
        "outputId": "9c095b74-2fe0-4a7a-bfdb-2a5c6d1b3520"
      },
      "source": [
        "df_test['Gender'].value_counts() # Mostly Male"
      ],
      "execution_count": 0,
      "outputs": [
        {
          "output_type": "execute_result",
          "data": {
            "text/plain": [
              "Male      286\n",
              "Female     70\n",
              "Name: Gender, dtype: int64"
            ]
          },
          "metadata": {
            "tags": []
          },
          "execution_count": 92
        }
      ]
    },
    {
      "cell_type": "code",
      "metadata": {
        "id": "SUfJ1iiV78X9",
        "colab_type": "code",
        "colab": {}
      },
      "source": [
        "df_test['Gender'].fillna('Male',inplace=True) #impute missing value with Male(median)"
      ],
      "execution_count": 0,
      "outputs": []
    },
    {
      "cell_type": "code",
      "metadata": {
        "id": "53NtIOSI78YE",
        "colab_type": "code",
        "colab": {},
        "outputId": "d592636e-72a8-43ad-92a6-0c21cb2ac33f"
      },
      "source": [
        "df_test['Dependents'].value_counts()"
      ],
      "execution_count": 0,
      "outputs": [
        {
          "output_type": "execute_result",
          "data": {
            "text/plain": [
              "0     200\n",
              "2      59\n",
              "1      58\n",
              "3+     40\n",
              "Name: Dependents, dtype: int64"
            ]
          },
          "metadata": {
            "tags": []
          },
          "execution_count": 94
        }
      ]
    },
    {
      "cell_type": "code",
      "metadata": {
        "id": "2sqkxCv678YH",
        "colab_type": "code",
        "colab": {}
      },
      "source": [
        "df_test['Dependents'].fillna('0',inplace=True) #impute missing value with 0 (median)"
      ],
      "execution_count": 0,
      "outputs": []
    },
    {
      "cell_type": "code",
      "metadata": {
        "id": "BXytesSl78YK",
        "colab_type": "code",
        "colab": {},
        "outputId": "b25c248e-79b1-4045-b5ce-46fa092fe9ff"
      },
      "source": [
        "df_test['Married'].value_counts() "
      ],
      "execution_count": 0,
      "outputs": [
        {
          "output_type": "execute_result",
          "data": {
            "text/plain": [
              "Yes    233\n",
              "No     134\n",
              "Name: Married, dtype: int64"
            ]
          },
          "metadata": {
            "tags": []
          },
          "execution_count": 96
        }
      ]
    },
    {
      "cell_type": "code",
      "metadata": {
        "id": "TZSgK1Rl78YN",
        "colab_type": "code",
        "colab": {}
      },
      "source": [
        "df_test['Married'].fillna('Yes',inplace=True) #impute missing value with Yes (median)"
      ],
      "execution_count": 0,
      "outputs": []
    },
    {
      "cell_type": "code",
      "metadata": {
        "id": "rZ68F6WH78YP",
        "colab_type": "code",
        "colab": {},
        "outputId": "f4c1005c-722f-4407-b2d5-66920db82564"
      },
      "source": [
        "df_test['Education'].value_counts() # most of the people are graduates"
      ],
      "execution_count": 0,
      "outputs": [
        {
          "output_type": "execute_result",
          "data": {
            "text/plain": [
              "Graduate        283\n",
              "Not Graduate     84\n",
              "Name: Education, dtype: int64"
            ]
          },
          "metadata": {
            "tags": []
          },
          "execution_count": 98
        }
      ]
    },
    {
      "cell_type": "code",
      "metadata": {
        "id": "dKwE2vBi78YQ",
        "colab_type": "code",
        "colab": {},
        "outputId": "69ab278d-fb81-436a-bfaa-7d79d83ced94"
      },
      "source": [
        "df_test['Self_Employed'].value_counts() #Most of the people are not self employed, they are working"
      ],
      "execution_count": 0,
      "outputs": [
        {
          "output_type": "execute_result",
          "data": {
            "text/plain": [
              "No     307\n",
              "Yes     37\n",
              "Name: Self_Employed, dtype: int64"
            ]
          },
          "metadata": {
            "tags": []
          },
          "execution_count": 99
        }
      ]
    },
    {
      "cell_type": "code",
      "metadata": {
        "id": "0v3GCZw978YW",
        "colab_type": "code",
        "colab": {}
      },
      "source": [
        "df_test['Self_Employed'].fillna('0',inplace=True) #impute missing value with No (median)"
      ],
      "execution_count": 0,
      "outputs": []
    },
    {
      "cell_type": "code",
      "metadata": {
        "id": "Q8DPBu-t78YY",
        "colab_type": "code",
        "colab": {}
      },
      "source": [
        "# Replace missing values\n",
        "df_test['LoanAmount'] = df_test.groupby(['Education','Self_Employed'])['LoanAmount']\\\n",
        "                     .apply(lambda x: x.fillna(x.median()))"
      ],
      "execution_count": 0,
      "outputs": []
    },
    {
      "cell_type": "code",
      "metadata": {
        "id": "WZzzOP8O78YZ",
        "colab_type": "code",
        "colab": {},
        "outputId": "047c88cc-7833-4174-de58-1f6e24c7712c"
      },
      "source": [
        "df_test['Loan_Amount_Term'].value_counts()"
      ],
      "execution_count": 0,
      "outputs": [
        {
          "output_type": "execute_result",
          "data": {
            "text/plain": [
              "360.0    311\n",
              "180.0     22\n",
              "480.0      8\n",
              "300.0      7\n",
              "240.0      4\n",
              "84.0       3\n",
              "6.0        1\n",
              "120.0      1\n",
              "36.0       1\n",
              "350.0      1\n",
              "12.0       1\n",
              "60.0       1\n",
              "Name: Loan_Amount_Term, dtype: int64"
            ]
          },
          "metadata": {
            "tags": []
          },
          "execution_count": 102
        }
      ]
    },
    {
      "cell_type": "code",
      "metadata": {
        "id": "rlICjlaL78Yb",
        "colab_type": "code",
        "colab": {}
      },
      "source": [
        "df_test['Loan_Amount_Term'].fillna(360.0,inplace=True) #impute missing value with 360 (median)"
      ],
      "execution_count": 0,
      "outputs": []
    },
    {
      "cell_type": "code",
      "metadata": {
        "id": "4pGNk6RP78Yc",
        "colab_type": "code",
        "colab": {}
      },
      "source": [
        "#                                normalization  or log tranfer "
      ],
      "execution_count": 0,
      "outputs": []
    },
    {
      "cell_type": "code",
      "metadata": {
        "id": "Ti0dONgq78Ye",
        "colab_type": "code",
        "colab": {}
      },
      "source": [
        "df_test['LoanAmount_log'] = np.log(df_test['LoanAmount'])"
      ],
      "execution_count": 0,
      "outputs": []
    },
    {
      "cell_type": "code",
      "metadata": {
        "id": "AXYtu0lR78Yf",
        "colab_type": "code",
        "colab": {}
      },
      "source": [
        "df_test['TotalIncome'] = df_test['ApplicantIncome'] + df_test['CoapplicantIncome']"
      ],
      "execution_count": 0,
      "outputs": []
    },
    {
      "cell_type": "code",
      "metadata": {
        "id": "UBeStAzs78Yh",
        "colab_type": "code",
        "colab": {}
      },
      "source": [
        "df_test['TotalIncome_log'] = np.log(df_test['TotalIncome'])"
      ],
      "execution_count": 0,
      "outputs": []
    },
    {
      "cell_type": "code",
      "metadata": {
        "id": "qadDfn5578Yj",
        "colab_type": "code",
        "colab": {}
      },
      "source": [
        "#because we get the best result from logistic regresssion we use this model to predict our target"
      ],
      "execution_count": 0,
      "outputs": []
    },
    {
      "cell_type": "code",
      "metadata": {
        "id": "FgyOx2cn78Yl",
        "colab_type": "code",
        "colab": {}
      },
      "source": [
        "feats = ['Gender','Married','Dependents','Education','Self_Employed','Property_Area']"
      ],
      "execution_count": 0,
      "outputs": []
    },
    {
      "cell_type": "code",
      "metadata": {
        "id": "H9crpKbI78Yp",
        "colab_type": "code",
        "colab": {}
      },
      "source": [
        "df_test= pd.get_dummies(df_test,columns=feats,drop_first=True)"
      ],
      "execution_count": 0,
      "outputs": []
    },
    {
      "cell_type": "code",
      "metadata": {
        "id": "UHBXH2aP78Yr",
        "colab_type": "code",
        "colab": {}
      },
      "source": [
        "df_test=df_test[['Loan_ID', 'ApplicantIncome', 'CoapplicantIncome', 'LoanAmount',\n",
        "       'Loan_Amount_Term', 'Credit_History', 'LoanAmount_log', 'TotalIncome',\n",
        "       'TotalIncome_log', 'Gender_Male', 'Married_Yes', 'Dependents_1',\n",
        "       'Dependents_2', 'Dependents_3+', 'Education_Not Graduate',\n",
        "       'Self_Employed_Yes', 'Property_Area_Semiurban', 'Property_Area_Urban']]"
      ],
      "execution_count": 0,
      "outputs": []
    },
    {
      "cell_type": "code",
      "metadata": {
        "id": "nlqRxsKV78Yt",
        "colab_type": "code",
        "colab": {}
      },
      "source": [
        "X_test = df_test.drop(['Loan_ID','ApplicantIncome','CoapplicantIncome','TotalIncome','LoanAmount','LoanAmount_log'],axis=1).values\n",
        "#y = df_final['Loan_Status_Y'].values"
      ],
      "execution_count": 0,
      "outputs": []
    },
    {
      "cell_type": "code",
      "metadata": {
        "id": "mRVrr-qt78Yv",
        "colab_type": "code",
        "colab": {},
        "outputId": "c3c4cc84-f6e5-49da-91b9-713a0feda294"
      },
      "source": [
        "X_test"
      ],
      "execution_count": 0,
      "outputs": [
        {
          "output_type": "execute_result",
          "data": {
            "text/plain": [
              "array([[360.        ,   1.        ,   8.65172408, ...,   0.        ,\n",
              "          0.        ,   1.        ],\n",
              "       [360.        ,   1.        ,   8.42858053, ...,   0.        ,\n",
              "          0.        ,   1.        ],\n",
              "       [360.        ,   1.        ,   8.82467789, ...,   0.        ,\n",
              "          0.        ,   1.        ],\n",
              "       ...,\n",
              "       [360.        ,   1.        ,   8.56464913, ...,   0.        ,\n",
              "          1.        ,   0.        ],\n",
              "       [360.        ,   1.        ,   8.90828889, ...,   0.        ,\n",
              "          0.        ,   0.        ],\n",
              "       [180.        ,   1.        ,   9.12695876, ...,   1.        ,\n",
              "          0.        ,   0.        ]])"
            ]
          },
          "metadata": {
            "tags": []
          },
          "execution_count": 113
        }
      ]
    },
    {
      "cell_type": "code",
      "metadata": {
        "id": "mWov-v-x78Yy",
        "colab_type": "code",
        "colab": {}
      },
      "source": [
        "from sklearn.preprocessing import StandardScaler\n",
        "sc = StandardScaler()\n",
        "X_test = sc.fit_transform(X_test)"
      ],
      "execution_count": 0,
      "outputs": []
    },
    {
      "cell_type": "code",
      "metadata": {
        "id": "FPiMO8EG78Yz",
        "colab_type": "code",
        "colab": {},
        "outputId": "6e1d3f44-346c-4740-c4bc-c9ba69115175"
      },
      "source": [
        "X_test"
      ],
      "execution_count": 0,
      "outputs": [
        {
          "output_type": "execute_result",
          "data": {
            "text/plain": [
              "array([[ 0.26602207,  0.4376739 ,  0.07253853, ..., -0.33484506,\n",
              "        -0.67981718,  1.27335328],\n",
              "       [ 0.26602207,  0.4376739 , -0.39717115, ..., -0.33484506,\n",
              "        -0.67981718,  1.27335328],\n",
              "       [ 0.26602207,  0.4376739 ,  0.43660049, ..., -0.33484506,\n",
              "        -0.67981718,  1.27335328],\n",
              "       ...,\n",
              "       [ 0.26602207,  0.4376739 , -0.11075132, ..., -0.33484506,\n",
              "         1.47098372, -0.78532801],\n",
              "       [ 0.26602207,  0.4376739 ,  0.61259882, ..., -0.33484506,\n",
              "        -0.67981718, -0.78532801],\n",
              "       [-2.52163936,  0.4376739 ,  1.07289157, ...,  2.98645591,\n",
              "        -0.67981718, -0.78532801]])"
            ]
          },
          "metadata": {
            "tags": []
          },
          "execution_count": 115
        }
      ]
    },
    {
      "cell_type": "code",
      "metadata": {
        "id": "1MpqyMME78Y2",
        "colab_type": "code",
        "colab": {},
        "outputId": "3685be16-076f-489f-e959-cdd84317e5df"
      },
      "source": [
        "#Encoding dependent variable\n",
        "# labelencoder_y=LabelEncoder()\n",
        "# y=labelencoder_y.fit_transform(y)\n",
        "\n",
        "# Splitting the dataset into the Training set and Test set\n",
        "from sklearn.cross_validation import train_test_split\n",
        "X_train, X_test1, y_train, y_test1 = train_test_split(X, y, test_size = 0.2, random_state = 0)\n",
        "\n",
        "# Feature Scaling\n",
        "from sklearn.preprocessing import StandardScaler\n",
        "sc = StandardScaler()\n",
        "X_train = sc.fit_transform(X_train)\n",
        "X_test1 = sc.transform(X_test1)\n",
        "\n",
        "# Fitting Logistic Regression to the Training set\n",
        "from sklearn.linear_model import LogisticRegression\n",
        "classifier = LogisticRegression(random_state = 0)\n",
        "classifier.fit(X_train, y_train)\n",
        "\n",
        "# Predicting the Test set results\n",
        "y_pred1 = classifier.predict(X_test1)\n",
        "\n",
        "# calculate accuracy\n",
        "from sklearn import metrics\n",
        "print(metrics.accuracy_score(y_test1, y_pred1))\n",
        "\n",
        "y_test1.min()\n",
        "# Making the Confusion Matrix\n",
        "from sklearn.metrics import confusion_matrix\n",
        "cm = confusion_matrix(y_test1, y_pred1)"
      ],
      "execution_count": 0,
      "outputs": [
        {
          "output_type": "stream",
          "text": [
            "0.8292682926829268\n"
          ],
          "name": "stdout"
        }
      ]
    },
    {
      "cell_type": "code",
      "metadata": {
        "id": "HFDTqhfx78Y6",
        "colab_type": "code",
        "colab": {},
        "outputId": "c9d4c7fd-e037-4dce-af9e-fe15da051b4f"
      },
      "source": [
        "X_test[0]"
      ],
      "execution_count": 0,
      "outputs": [
        {
          "output_type": "execute_result",
          "data": {
            "text/plain": [
              "array([ 0.26602207,  0.4376739 ,  0.07253853,  0.48547939,  0.75835829,\n",
              "       -0.43324619, -0.4376739 , -0.34974871, -0.5448117 , -0.33484506,\n",
              "       -0.67981718,  1.27335328])"
            ]
          },
          "metadata": {
            "tags": []
          },
          "execution_count": 117
        }
      ]
    },
    {
      "cell_type": "code",
      "metadata": {
        "id": "iIF95YSi78Y-",
        "colab_type": "code",
        "colab": {},
        "outputId": "413814f8-d75b-4a14-fb42-9131f5a17b3b"
      },
      "source": [
        "from sklearn.linear_model import LogisticRegression\n",
        "classifier = LogisticRegression(random_state = 0)\n",
        "classifier.fit(X_train, y_train)"
      ],
      "execution_count": 0,
      "outputs": [
        {
          "output_type": "execute_result",
          "data": {
            "text/plain": [
              "LogisticRegression(C=1.0, class_weight=None, dual=False, fit_intercept=True,\n",
              "          intercept_scaling=1, max_iter=100, multi_class='ovr', n_jobs=1,\n",
              "          penalty='l2', random_state=0, solver='liblinear', tol=0.0001,\n",
              "          verbose=0, warm_start=False)"
            ]
          },
          "metadata": {
            "tags": []
          },
          "execution_count": 118
        }
      ]
    },
    {
      "cell_type": "code",
      "metadata": {
        "id": "DjCLjqZG78Y_",
        "colab_type": "code",
        "colab": {}
      },
      "source": [
        "y_pred = classifier.predict(X_test)"
      ],
      "execution_count": 0,
      "outputs": []
    },
    {
      "cell_type": "code",
      "metadata": {
        "id": "SDE2DFcg78ZB",
        "colab_type": "code",
        "colab": {},
        "outputId": "a2e962c7-d9bc-4462-ba6b-c8dcbcbd8a07"
      },
      "source": [
        "y_pred"
      ],
      "execution_count": 0,
      "outputs": [
        {
          "output_type": "execute_result",
          "data": {
            "text/plain": [
              "array([1, 1, 1, 1, 1, 1, 1, 0, 1, 1, 1, 1, 1, 0, 1, 1, 1, 1, 1, 1, 1, 1,\n",
              "       1, 1, 1, 0, 1, 1, 1, 1, 1, 1, 1, 1, 1, 0, 1, 1, 1, 1, 1, 1, 1, 1,\n",
              "       1, 1, 1, 1, 1, 1, 1, 1, 1, 1, 1, 0, 1, 1, 0, 1, 1, 1, 1, 0, 1, 1,\n",
              "       0, 0, 1, 0, 1, 1, 1, 1, 1, 1, 1, 1, 1, 1, 0, 1, 0, 1, 0, 1, 1, 1,\n",
              "       1, 1, 1, 1, 1, 1, 0, 1, 1, 1, 1, 1, 1, 0, 1, 1, 1, 1, 0, 1, 1, 1,\n",
              "       1, 1, 1, 1, 1, 1, 1, 0, 0, 0, 1, 1, 1, 0, 0, 1, 0, 1, 1, 1, 1, 1,\n",
              "       1, 1, 1, 1, 1, 1, 1, 1, 0, 1, 0, 1, 1, 1, 1, 0, 1, 1, 1, 1, 1, 0,\n",
              "       1, 1, 1, 1, 1, 1, 1, 0, 1, 1, 1, 0, 0, 1, 0, 1, 1, 1, 1, 0, 0, 1,\n",
              "       1, 1, 1, 1, 1, 1, 1, 1, 1, 1, 1, 1, 1, 1, 1, 1, 0, 0, 1, 1, 0, 1,\n",
              "       0, 1, 1, 1, 1, 1, 1, 1, 1, 1, 1, 1, 1, 0, 1, 1, 1, 1, 1, 1, 1, 1,\n",
              "       1, 1, 1, 1, 0, 1, 1, 1, 1, 0, 1, 1, 1, 1, 1, 0, 0, 1, 1, 1, 1, 0,\n",
              "       1, 0, 1, 0, 1, 1, 1, 1, 0, 1, 1, 1, 1, 0, 1, 1, 1, 1, 1, 1, 1, 1,\n",
              "       1, 1, 0, 1, 0, 1, 1, 1, 1, 0, 0, 1, 1, 1, 0, 1, 1, 1, 1, 1, 1, 1,\n",
              "       1, 1, 1, 1, 1, 1, 1, 0, 1, 1, 1, 1, 1, 1, 1, 0, 1, 1, 1, 1, 1, 1,\n",
              "       1, 1, 1, 0, 1, 1, 1, 1, 1, 0, 1, 1, 1, 1, 1, 1, 1, 0, 1, 1, 1, 1,\n",
              "       1, 1, 1, 1, 1, 1, 1, 1, 1, 0, 1, 1, 1, 1, 1, 1, 0, 1, 1, 1, 1, 1,\n",
              "       1, 1, 0, 1, 1, 1, 1, 1, 1, 1, 1, 1, 1, 1, 1], dtype=uint8)"
            ]
          },
          "metadata": {
            "tags": []
          },
          "execution_count": 120
        }
      ]
    },
    {
      "cell_type": "code",
      "metadata": {
        "id": "Pvx8KLhJ78ZE",
        "colab_type": "code",
        "colab": {},
        "outputId": "5f44e197-b8cb-4808-d5e4-e7ce9df4376a"
      },
      "source": [
        "y_pred.tolist()"
      ],
      "execution_count": 0,
      "outputs": [
        {
          "output_type": "execute_result",
          "data": {
            "text/plain": [
              "[1,\n",
              " 1,\n",
              " 1,\n",
              " 1,\n",
              " 1,\n",
              " 1,\n",
              " 1,\n",
              " 0,\n",
              " 1,\n",
              " 1,\n",
              " 1,\n",
              " 1,\n",
              " 1,\n",
              " 0,\n",
              " 1,\n",
              " 1,\n",
              " 1,\n",
              " 1,\n",
              " 1,\n",
              " 1,\n",
              " 1,\n",
              " 1,\n",
              " 1,\n",
              " 1,\n",
              " 1,\n",
              " 0,\n",
              " 1,\n",
              " 1,\n",
              " 1,\n",
              " 1,\n",
              " 1,\n",
              " 1,\n",
              " 1,\n",
              " 1,\n",
              " 1,\n",
              " 0,\n",
              " 1,\n",
              " 1,\n",
              " 1,\n",
              " 1,\n",
              " 1,\n",
              " 1,\n",
              " 1,\n",
              " 1,\n",
              " 1,\n",
              " 1,\n",
              " 1,\n",
              " 1,\n",
              " 1,\n",
              " 1,\n",
              " 1,\n",
              " 1,\n",
              " 1,\n",
              " 1,\n",
              " 1,\n",
              " 0,\n",
              " 1,\n",
              " 1,\n",
              " 0,\n",
              " 1,\n",
              " 1,\n",
              " 1,\n",
              " 1,\n",
              " 0,\n",
              " 1,\n",
              " 1,\n",
              " 0,\n",
              " 0,\n",
              " 1,\n",
              " 0,\n",
              " 1,\n",
              " 1,\n",
              " 1,\n",
              " 1,\n",
              " 1,\n",
              " 1,\n",
              " 1,\n",
              " 1,\n",
              " 1,\n",
              " 1,\n",
              " 0,\n",
              " 1,\n",
              " 0,\n",
              " 1,\n",
              " 0,\n",
              " 1,\n",
              " 1,\n",
              " 1,\n",
              " 1,\n",
              " 1,\n",
              " 1,\n",
              " 1,\n",
              " 1,\n",
              " 1,\n",
              " 0,\n",
              " 1,\n",
              " 1,\n",
              " 1,\n",
              " 1,\n",
              " 1,\n",
              " 1,\n",
              " 0,\n",
              " 1,\n",
              " 1,\n",
              " 1,\n",
              " 1,\n",
              " 0,\n",
              " 1,\n",
              " 1,\n",
              " 1,\n",
              " 1,\n",
              " 1,\n",
              " 1,\n",
              " 1,\n",
              " 1,\n",
              " 1,\n",
              " 1,\n",
              " 0,\n",
              " 0,\n",
              " 0,\n",
              " 1,\n",
              " 1,\n",
              " 1,\n",
              " 0,\n",
              " 0,\n",
              " 1,\n",
              " 0,\n",
              " 1,\n",
              " 1,\n",
              " 1,\n",
              " 1,\n",
              " 1,\n",
              " 1,\n",
              " 1,\n",
              " 1,\n",
              " 1,\n",
              " 1,\n",
              " 1,\n",
              " 1,\n",
              " 1,\n",
              " 0,\n",
              " 1,\n",
              " 0,\n",
              " 1,\n",
              " 1,\n",
              " 1,\n",
              " 1,\n",
              " 0,\n",
              " 1,\n",
              " 1,\n",
              " 1,\n",
              " 1,\n",
              " 1,\n",
              " 0,\n",
              " 1,\n",
              " 1,\n",
              " 1,\n",
              " 1,\n",
              " 1,\n",
              " 1,\n",
              " 1,\n",
              " 0,\n",
              " 1,\n",
              " 1,\n",
              " 1,\n",
              " 0,\n",
              " 0,\n",
              " 1,\n",
              " 0,\n",
              " 1,\n",
              " 1,\n",
              " 1,\n",
              " 1,\n",
              " 0,\n",
              " 0,\n",
              " 1,\n",
              " 1,\n",
              " 1,\n",
              " 1,\n",
              " 1,\n",
              " 1,\n",
              " 1,\n",
              " 1,\n",
              " 1,\n",
              " 1,\n",
              " 1,\n",
              " 1,\n",
              " 1,\n",
              " 1,\n",
              " 1,\n",
              " 1,\n",
              " 1,\n",
              " 0,\n",
              " 0,\n",
              " 1,\n",
              " 1,\n",
              " 0,\n",
              " 1,\n",
              " 0,\n",
              " 1,\n",
              " 1,\n",
              " 1,\n",
              " 1,\n",
              " 1,\n",
              " 1,\n",
              " 1,\n",
              " 1,\n",
              " 1,\n",
              " 1,\n",
              " 1,\n",
              " 1,\n",
              " 0,\n",
              " 1,\n",
              " 1,\n",
              " 1,\n",
              " 1,\n",
              " 1,\n",
              " 1,\n",
              " 1,\n",
              " 1,\n",
              " 1,\n",
              " 1,\n",
              " 1,\n",
              " 1,\n",
              " 0,\n",
              " 1,\n",
              " 1,\n",
              " 1,\n",
              " 1,\n",
              " 0,\n",
              " 1,\n",
              " 1,\n",
              " 1,\n",
              " 1,\n",
              " 1,\n",
              " 0,\n",
              " 0,\n",
              " 1,\n",
              " 1,\n",
              " 1,\n",
              " 1,\n",
              " 0,\n",
              " 1,\n",
              " 0,\n",
              " 1,\n",
              " 0,\n",
              " 1,\n",
              " 1,\n",
              " 1,\n",
              " 1,\n",
              " 0,\n",
              " 1,\n",
              " 1,\n",
              " 1,\n",
              " 1,\n",
              " 0,\n",
              " 1,\n",
              " 1,\n",
              " 1,\n",
              " 1,\n",
              " 1,\n",
              " 1,\n",
              " 1,\n",
              " 1,\n",
              " 1,\n",
              " 1,\n",
              " 0,\n",
              " 1,\n",
              " 0,\n",
              " 1,\n",
              " 1,\n",
              " 1,\n",
              " 1,\n",
              " 0,\n",
              " 0,\n",
              " 1,\n",
              " 1,\n",
              " 1,\n",
              " 0,\n",
              " 1,\n",
              " 1,\n",
              " 1,\n",
              " 1,\n",
              " 1,\n",
              " 1,\n",
              " 1,\n",
              " 1,\n",
              " 1,\n",
              " 1,\n",
              " 1,\n",
              " 1,\n",
              " 1,\n",
              " 1,\n",
              " 0,\n",
              " 1,\n",
              " 1,\n",
              " 1,\n",
              " 1,\n",
              " 1,\n",
              " 1,\n",
              " 1,\n",
              " 0,\n",
              " 1,\n",
              " 1,\n",
              " 1,\n",
              " 1,\n",
              " 1,\n",
              " 1,\n",
              " 1,\n",
              " 1,\n",
              " 1,\n",
              " 0,\n",
              " 1,\n",
              " 1,\n",
              " 1,\n",
              " 1,\n",
              " 1,\n",
              " 0,\n",
              " 1,\n",
              " 1,\n",
              " 1,\n",
              " 1,\n",
              " 1,\n",
              " 1,\n",
              " 1,\n",
              " 0,\n",
              " 1,\n",
              " 1,\n",
              " 1,\n",
              " 1,\n",
              " 1,\n",
              " 1,\n",
              " 1,\n",
              " 1,\n",
              " 1,\n",
              " 1,\n",
              " 1,\n",
              " 1,\n",
              " 1,\n",
              " 0,\n",
              " 1,\n",
              " 1,\n",
              " 1,\n",
              " 1,\n",
              " 1,\n",
              " 1,\n",
              " 0,\n",
              " 1,\n",
              " 1,\n",
              " 1,\n",
              " 1,\n",
              " 1,\n",
              " 1,\n",
              " 1,\n",
              " 0,\n",
              " 1,\n",
              " 1,\n",
              " 1,\n",
              " 1,\n",
              " 1,\n",
              " 1,\n",
              " 1,\n",
              " 1,\n",
              " 1,\n",
              " 1,\n",
              " 1,\n",
              " 1]"
            ]
          },
          "metadata": {
            "tags": []
          },
          "execution_count": 121
        }
      ]
    },
    {
      "cell_type": "code",
      "metadata": {
        "id": "Zyzgiq9i78ZI",
        "colab_type": "code",
        "colab": {}
      },
      "source": [
        "#*****************************************************************************************************************\n",
        "#************************************              THANK YOU             *****************************************\n",
        "#*****************************************************************************************************************"
      ],
      "execution_count": 0,
      "outputs": []
    }
  ]
}